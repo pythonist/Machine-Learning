{
 "cells": [
  {
   "cell_type": "code",
   "execution_count": 2,
   "metadata": {},
   "outputs": [],
   "source": [
    "import itertools\n",
    "import numpy as np\n",
    "import matplotlib.pyplot as plt\n",
    "from matplotlib.ticker import NullFormatter\n",
    "import pandas as pd\n",
    "import numpy as np\n",
    "import matplotlib.ticker as ticker\n",
    "from sklearn import preprocessing\n",
    "%matplotlib inline\n",
    "from sklearn.model_selection import train_test_split\n",
    "from sklearn.neighbors import KNeighborsClassifier\n",
    "from sklearn import metrics\n",
    "from sklearn.tree import DecisionTreeClassifier\n",
    "from sklearn.linear_model import LogisticRegression\n",
    "from sklearn.metrics import jaccard_score\n",
    "from sklearn.metrics import log_loss\n",
    "from sklearn.metrics import f1_score\n",
    "from sklearn import svm"
   ]
  },
  {
   "cell_type": "code",
   "execution_count": 4,
   "metadata": {},
   "outputs": [],
   "source": [
    "df = pd.read_csv(r'C:\\Users\\loan_data.csv')"
   ]
  },
  {
   "cell_type": "code",
   "execution_count": 12,
   "metadata": {},
   "outputs": [],
   "source": [
    "df = df.drop('Unnamed: 8', 1)"
   ]
  },
  {
   "cell_type": "code",
   "execution_count": 13,
   "metadata": {},
   "outputs": [],
   "source": [
    "df['due_date'] = pd.to_datetime(df['due_date'])\n",
    "df['effective_date'] = pd.to_datetime(df['effective_date'])"
   ]
  },
  {
   "cell_type": "code",
   "execution_count": 19,
   "metadata": {},
   "outputs": [],
   "source": [
    "df['dayofweek'] = df['effective_date'].dt.dayofweek \n",
    "df['weekend'] = df['dayofweek'].apply(lambda x: 1 if (x>3)  else 0)\n",
    "df['Gender'].replace(to_replace=['male','female'], value=[0,1],inplace=True) \n",
    "Feature = df[['Principal','terms','age','Gender','weekend']]\n",
    "Feature = pd.concat([Feature,pd.get_dummies(df['education'])], axis=1)\n",
    "Feature.drop(['Master or Above'], axis = 1,inplace=True)\n"
   ]
  },
  {
   "cell_type": "code",
   "execution_count": 20,
   "metadata": {},
   "outputs": [],
   "source": [
    "X = Feature\n",
    "df_n = df.loan_status.replace(to_replace=['PAIDOFF', 'COLLECTION'], value=[0,1])\n",
    "y = df_n.values\n",
    "X= preprocessing.StandardScaler().fit(X).transform(X)"
   ]
  },
  {
   "cell_type": "code",
   "execution_count": 23,
   "metadata": {},
   "outputs": [],
   "source": [
    "X_train, X_test, Y_train, Y_test = train_test_split(X, y, test_size=0.25, random_state=30)"
   ]
  },
  {
   "cell_type": "code",
   "execution_count": 24,
   "metadata": {},
   "outputs": [],
   "source": [
    "knc = KNeighborsClassifier(n_neighbors=7)\n",
    "dtc = DecisionTreeClassifier(criterion=\"entropy\", max_depth = 6)\n",
    "sv = svm.SVC(kernel='rbf', gamma=0.7)\n",
    "lr = LogisticRegression(C=0.001, solver='liblinear')"
   ]
  },
  {
   "cell_type": "code",
   "execution_count": 29,
   "metadata": {},
   "outputs": [],
   "source": [
    "knc.fit(X_train, Y_train)\n",
    "y_hat = knc.predict(X_test)\n",
    "dtc.fit(X_train, Y_train)\n",
    "y_hat_dtc = dtc.predict(X_test)\n",
    "sv.fit(X_train, Y_train) \n",
    "y_hat_sv = sv.predict(X_test)\n",
    "lr.fit(X_train, Y_train) \n",
    "y_hat_lr = lr.predict(X_test)"
   ]
  },
  {
   "cell_type": "code",
   "execution_count": 32,
   "metadata": {},
   "outputs": [
    {
     "name": "stdout",
     "output_type": "stream",
     "text": [
      "Train set Accuracy (Jaccard):  0.7722007722007722\n",
      "Test set Accuracy (Jaccard):  0.8620689655172413\n",
      "Train set Accuracy (F1):  0.5426356589147286\n",
      "Test set Accuracy (F1):  0.6\n",
      "Train set Accuracy (Jaccard):  0.2631578947368421\n",
      "Test set Accuracy (Jaccard):  0.3181818181818182\n",
      "Train set Accuracy (F1):  0.41666666666666663\n",
      "Test set Accuracy (F1):  0.4827586206896552\n",
      "Train set Accuracy (Jaccard):  0.32098765432098764\n",
      "Test set Accuracy (Jaccard):  0.09090909090909091\n",
      "Train set Accuracy (F1):  0.4859813084112149\n",
      "Test set Accuracy (F1):  0.16666666666666669\n",
      "Jaccard score:  0.3181818181818182\n",
      "Train set Accuracy (F1):  0.41666666666666663\n",
      "Test set Accuracy (F1):  0.4827586206896552\n"
     ]
    }
   ],
   "source": [
    "print(\"Train set Accuracy (Jaccard): \", metrics.accuracy_score(Y_train, knc.predict(X_train)))\n",
    "print(\"Test set Accuracy (Jaccard): \", metrics.accuracy_score(Y_test, y_hat))\n",
    "print(\"Train set Accuracy (F1): \", metrics.f1_score(Y_train, knc.predict(X_train)))\n",
    "print(\"Test set Accuracy (F1): \", metrics.f1_score(Y_test, y_hat))\n",
    "\n",
    "print(\"Train set Accuracy (Jaccard): \", metrics.jaccard_score(Y_train, lr.predict(X_train)))\n",
    "print(\"Test set Accuracy (Jaccard): \", metrics.jaccard_score(Y_test, y_hat_lr))\n",
    "print(\"Train set Accuracy (F1): \", metrics.f1_score(Y_train, lr.predict(X_train)))\n",
    "print(\"Test set Accuracy (F1): \", metrics.f1_score(Y_test, y_hat_lr))\n",
    "\n",
    "print(\"Train set Accuracy (Jaccard): \", metrics.jaccard_score(Y_train, sv.predict(X_train)))\n",
    "print(\"Test set Accuracy (Jaccard): \", metrics.jaccard_score(Y_test, y_hat_sv))\n",
    "print(\"Train set Accuracy (F1): \", metrics.f1_score(Y_train, sv.predict(X_train)))\n",
    "print(\"Test set Accuracy (F1): \", metrics.f1_score(Y_test, y_hat_sv))\n",
    "\n",
    "print (\"Jaccard score: \", jaccard_score(Y_test, y_hat_lr))\n",
    "print(\"Train set Accuracy (F1): \", metrics.f1_score(Y_train, lr.predict(X_train)))\n",
    "print(\"Test set Accuracy (F1): \", metrics.f1_score(Y_test, y_hat_lr))"
   ]
  }
 ],
 "metadata": {
  "interpreter": {
   "hash": "4d817b72370b20c3cc1349f4fad841a6a68b76cdb8114f9ade598112343a1453"
  },
  "kernelspec": {
   "display_name": "Python 3.8.8 ('pyspark_env')",
   "language": "python",
   "name": "python3"
  },
  "language_info": {
   "codemirror_mode": {
    "name": "ipython",
    "version": 3
   },
   "file_extension": ".py",
   "mimetype": "text/x-python",
   "name": "python",
   "nbconvert_exporter": "python",
   "pygments_lexer": "ipython3",
   "version": "3.8.8"
  },
  "orig_nbformat": 4
 },
 "nbformat": 4,
 "nbformat_minor": 2
}
