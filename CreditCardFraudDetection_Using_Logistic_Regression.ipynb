{
  "nbformat": 4,
  "nbformat_minor": 0,
  "metadata": {
    "colab": {
      "name": "CreditCardFraudDetection_Using_Logistic_Regression.ipynb",
      "provenance": [],
      "collapsed_sections": [
        "-XrKaC23pEZv"
      ]
    },
    "kernelspec": {
      "name": "python3",
      "display_name": "Python 3"
    },
    "language_info": {
      "name": "python"
    }
  },
  "cells": [
    {
      "cell_type": "code",
      "metadata": {
        "colab": {
          "base_uri": "https://localhost:8080/"
        },
        "id": "_D-XFP6QUIek",
        "outputId": "6edec910-d2a2-46af-e236-21461bda8b31"
      },
      "source": [
        "#if zip file stored in drive\n",
        "#!unzip -q \"/content/drive/archive.zip\""
      ],
      "execution_count": null,
      "outputs": [
        {
          "output_type": "stream",
          "text": [
            "unzip:  cannot find or open /content/drive/MyDrive/DATA/archive.zip, /content/drive/MyDrive/DATA/archive.zip.zip or /content/drive/MyDrive/DATA/archive.zip.ZIP.\n"
          ],
          "name": "stdout"
        }
      ]
    },
    {
      "cell_type": "code",
      "metadata": {
        "colab": {
          "base_uri": "https://localhost:8080/"
        },
        "id": "jBNSmZ-FVeBL",
        "outputId": "c1e164b7-8cc2-48b1-e461-0a377f15bf1e"
      },
      "source": [
        "import numpy as np\n",
        "import matplotlib.pyplot as plt\n",
        "import seaborn as sns\n",
        "%matplotlib inline\n",
        "from sklearn.preprocessing import StandardScaler\n",
        "from imblearn.over_sampling import SMOTE\n",
        "from sklearn.model_selection import train_test_split\n",
        "from sklearn.linear_model import LogisticRegression\n",
        "from sklearn.model_selection import KFold\n",
        "from sklearn.model_selection import GridSearchCV\n",
        "import seaborn as sns\n",
        "from sklearn.linear_model import Lasso, LogisticRegression\n",
        "from sklearn.feature_selection import SelectFromModel\n",
        "from sklearn.metrics import confusion_matrix"
      ],
      "execution_count": 1,
      "outputs": [
        {
          "output_type": "stream",
          "text": [
            "/usr/local/lib/python3.7/dist-packages/sklearn/externals/six.py:31: FutureWarning: The module is deprecated in version 0.21 and will be removed in version 0.23 since we've dropped support for Python 2.7. Please rely on the official version of six (https://pypi.org/project/six/).\n",
            "  \"(https://pypi.org/project/six/).\", FutureWarning)\n",
            "/usr/local/lib/python3.7/dist-packages/sklearn/utils/deprecation.py:144: FutureWarning: The sklearn.neighbors.base module is  deprecated in version 0.22 and will be removed in version 0.24. The corresponding classes / functions should instead be imported from sklearn.neighbors. Anything that cannot be imported from sklearn.neighbors is now part of the private API.\n",
            "  warnings.warn(message, FutureWarning)\n"
          ],
          "name": "stderr"
        }
      ]
    },
    {
      "cell_type": "code",
      "metadata": {
        "id": "vtR8Pr4gVLA3"
      },
      "source": [
        "import pandas as pd\n",
        "df = pd.read_csv(\"/content/drive/MyDrive/DATA/creditcard.csv\")"
      ],
      "execution_count": 2,
      "outputs": []
    },
    {
      "cell_type": "markdown",
      "metadata": {
        "id": "jeTg6nmh9kC5"
      },
      "source": [
        "___\n",
        "Exploring the data\n",
        "___"
      ]
    },
    {
      "cell_type": "code",
      "metadata": {
        "id": "B-aP9bG_I_EW"
      },
      "source": [
        "def view(data):\n",
        "    shape=df.shape\n",
        "    print('The shape of the dataframe(Rows X Columns) is :',shape)\n",
        "    count = df['Class'].value_counts()  \n",
        "    print(\"Count of samples in each class:\\n\",count)"
      ],
      "execution_count": 3,
      "outputs": []
    },
    {
      "cell_type": "code",
      "metadata": {
        "colab": {
          "base_uri": "https://localhost:8080/"
        },
        "id": "du9COnEIJfRW",
        "outputId": "952a8232-6bf0-4d47-9ddc-64cdbc46f5d3"
      },
      "source": [
        "view(df)"
      ],
      "execution_count": 4,
      "outputs": [
        {
          "output_type": "stream",
          "text": [
            "The shape of the dataframe(Rows X Columns) is : (284807, 31)\n",
            "Count of samples in each class:\n",
            " 0    284315\n",
            "1       492\n",
            "Name: Class, dtype: int64\n"
          ],
          "name": "stdout"
        }
      ]
    },
    {
      "cell_type": "code",
      "metadata": {
        "colab": {
          "base_uri": "https://localhost:8080/",
          "height": 315
        },
        "id": "yGermKuhKWvi",
        "outputId": "3777a914-25a0-491e-9110-d60e1860231a"
      },
      "source": [
        "pd.set_option('display.float_format', lambda x: '%.5f' % x)\n",
        "df.describe()"
      ],
      "execution_count": 5,
      "outputs": [
        {
          "output_type": "execute_result",
          "data": {
            "text/html": [
              "<div>\n",
              "<style scoped>\n",
              "    .dataframe tbody tr th:only-of-type {\n",
              "        vertical-align: middle;\n",
              "    }\n",
              "\n",
              "    .dataframe tbody tr th {\n",
              "        vertical-align: top;\n",
              "    }\n",
              "\n",
              "    .dataframe thead th {\n",
              "        text-align: right;\n",
              "    }\n",
              "</style>\n",
              "<table border=\"1\" class=\"dataframe\">\n",
              "  <thead>\n",
              "    <tr style=\"text-align: right;\">\n",
              "      <th></th>\n",
              "      <th>Time</th>\n",
              "      <th>V1</th>\n",
              "      <th>V2</th>\n",
              "      <th>V3</th>\n",
              "      <th>V4</th>\n",
              "      <th>V5</th>\n",
              "      <th>V6</th>\n",
              "      <th>V7</th>\n",
              "      <th>V8</th>\n",
              "      <th>V9</th>\n",
              "      <th>V10</th>\n",
              "      <th>V11</th>\n",
              "      <th>V12</th>\n",
              "      <th>V13</th>\n",
              "      <th>V14</th>\n",
              "      <th>V15</th>\n",
              "      <th>V16</th>\n",
              "      <th>V17</th>\n",
              "      <th>V18</th>\n",
              "      <th>V19</th>\n",
              "      <th>V20</th>\n",
              "      <th>V21</th>\n",
              "      <th>V22</th>\n",
              "      <th>V23</th>\n",
              "      <th>V24</th>\n",
              "      <th>V25</th>\n",
              "      <th>V26</th>\n",
              "      <th>V27</th>\n",
              "      <th>V28</th>\n",
              "      <th>Amount</th>\n",
              "      <th>Class</th>\n",
              "    </tr>\n",
              "  </thead>\n",
              "  <tbody>\n",
              "    <tr>\n",
              "      <th>count</th>\n",
              "      <td>284807.00000</td>\n",
              "      <td>284807.00000</td>\n",
              "      <td>284807.00000</td>\n",
              "      <td>284807.00000</td>\n",
              "      <td>284807.00000</td>\n",
              "      <td>284807.00000</td>\n",
              "      <td>284807.00000</td>\n",
              "      <td>284807.00000</td>\n",
              "      <td>284807.00000</td>\n",
              "      <td>284807.00000</td>\n",
              "      <td>284807.00000</td>\n",
              "      <td>284807.00000</td>\n",
              "      <td>284807.00000</td>\n",
              "      <td>284807.00000</td>\n",
              "      <td>284807.00000</td>\n",
              "      <td>284807.00000</td>\n",
              "      <td>284807.00000</td>\n",
              "      <td>284807.00000</td>\n",
              "      <td>284807.00000</td>\n",
              "      <td>284807.00000</td>\n",
              "      <td>284807.00000</td>\n",
              "      <td>284807.00000</td>\n",
              "      <td>284807.00000</td>\n",
              "      <td>284807.00000</td>\n",
              "      <td>284807.00000</td>\n",
              "      <td>284807.00000</td>\n",
              "      <td>284807.00000</td>\n",
              "      <td>284807.00000</td>\n",
              "      <td>284807.00000</td>\n",
              "      <td>284807.00000</td>\n",
              "      <td>284807.00000</td>\n",
              "    </tr>\n",
              "    <tr>\n",
              "      <th>mean</th>\n",
              "      <td>94813.85958</td>\n",
              "      <td>0.00000</td>\n",
              "      <td>0.00000</td>\n",
              "      <td>-0.00000</td>\n",
              "      <td>0.00000</td>\n",
              "      <td>-0.00000</td>\n",
              "      <td>0.00000</td>\n",
              "      <td>-0.00000</td>\n",
              "      <td>-0.00000</td>\n",
              "      <td>-0.00000</td>\n",
              "      <td>0.00000</td>\n",
              "      <td>0.00000</td>\n",
              "      <td>-0.00000</td>\n",
              "      <td>0.00000</td>\n",
              "      <td>0.00000</td>\n",
              "      <td>0.00000</td>\n",
              "      <td>0.00000</td>\n",
              "      <td>-0.00000</td>\n",
              "      <td>0.00000</td>\n",
              "      <td>0.00000</td>\n",
              "      <td>0.00000</td>\n",
              "      <td>0.00000</td>\n",
              "      <td>0.00000</td>\n",
              "      <td>0.00000</td>\n",
              "      <td>0.00000</td>\n",
              "      <td>0.00000</td>\n",
              "      <td>0.00000</td>\n",
              "      <td>-0.00000</td>\n",
              "      <td>-0.00000</td>\n",
              "      <td>88.34962</td>\n",
              "      <td>0.00173</td>\n",
              "    </tr>\n",
              "    <tr>\n",
              "      <th>std</th>\n",
              "      <td>47488.14595</td>\n",
              "      <td>1.95870</td>\n",
              "      <td>1.65131</td>\n",
              "      <td>1.51626</td>\n",
              "      <td>1.41587</td>\n",
              "      <td>1.38025</td>\n",
              "      <td>1.33227</td>\n",
              "      <td>1.23709</td>\n",
              "      <td>1.19435</td>\n",
              "      <td>1.09863</td>\n",
              "      <td>1.08885</td>\n",
              "      <td>1.02071</td>\n",
              "      <td>0.99920</td>\n",
              "      <td>0.99527</td>\n",
              "      <td>0.95860</td>\n",
              "      <td>0.91532</td>\n",
              "      <td>0.87625</td>\n",
              "      <td>0.84934</td>\n",
              "      <td>0.83818</td>\n",
              "      <td>0.81404</td>\n",
              "      <td>0.77093</td>\n",
              "      <td>0.73452</td>\n",
              "      <td>0.72570</td>\n",
              "      <td>0.62446</td>\n",
              "      <td>0.60565</td>\n",
              "      <td>0.52128</td>\n",
              "      <td>0.48223</td>\n",
              "      <td>0.40363</td>\n",
              "      <td>0.33008</td>\n",
              "      <td>250.12011</td>\n",
              "      <td>0.04153</td>\n",
              "    </tr>\n",
              "    <tr>\n",
              "      <th>min</th>\n",
              "      <td>0.00000</td>\n",
              "      <td>-56.40751</td>\n",
              "      <td>-72.71573</td>\n",
              "      <td>-48.32559</td>\n",
              "      <td>-5.68317</td>\n",
              "      <td>-113.74331</td>\n",
              "      <td>-26.16051</td>\n",
              "      <td>-43.55724</td>\n",
              "      <td>-73.21672</td>\n",
              "      <td>-13.43407</td>\n",
              "      <td>-24.58826</td>\n",
              "      <td>-4.79747</td>\n",
              "      <td>-18.68371</td>\n",
              "      <td>-5.79188</td>\n",
              "      <td>-19.21433</td>\n",
              "      <td>-4.49894</td>\n",
              "      <td>-14.12985</td>\n",
              "      <td>-25.16280</td>\n",
              "      <td>-9.49875</td>\n",
              "      <td>-7.21353</td>\n",
              "      <td>-54.49772</td>\n",
              "      <td>-34.83038</td>\n",
              "      <td>-10.93314</td>\n",
              "      <td>-44.80774</td>\n",
              "      <td>-2.83663</td>\n",
              "      <td>-10.29540</td>\n",
              "      <td>-2.60455</td>\n",
              "      <td>-22.56568</td>\n",
              "      <td>-15.43008</td>\n",
              "      <td>0.00000</td>\n",
              "      <td>0.00000</td>\n",
              "    </tr>\n",
              "    <tr>\n",
              "      <th>25%</th>\n",
              "      <td>54201.50000</td>\n",
              "      <td>-0.92037</td>\n",
              "      <td>-0.59855</td>\n",
              "      <td>-0.89036</td>\n",
              "      <td>-0.84864</td>\n",
              "      <td>-0.69160</td>\n",
              "      <td>-0.76830</td>\n",
              "      <td>-0.55408</td>\n",
              "      <td>-0.20863</td>\n",
              "      <td>-0.64310</td>\n",
              "      <td>-0.53543</td>\n",
              "      <td>-0.76249</td>\n",
              "      <td>-0.40557</td>\n",
              "      <td>-0.64854</td>\n",
              "      <td>-0.42557</td>\n",
              "      <td>-0.58288</td>\n",
              "      <td>-0.46804</td>\n",
              "      <td>-0.48375</td>\n",
              "      <td>-0.49885</td>\n",
              "      <td>-0.45630</td>\n",
              "      <td>-0.21172</td>\n",
              "      <td>-0.22839</td>\n",
              "      <td>-0.54235</td>\n",
              "      <td>-0.16185</td>\n",
              "      <td>-0.35459</td>\n",
              "      <td>-0.31715</td>\n",
              "      <td>-0.32698</td>\n",
              "      <td>-0.07084</td>\n",
              "      <td>-0.05296</td>\n",
              "      <td>5.60000</td>\n",
              "      <td>0.00000</td>\n",
              "    </tr>\n",
              "    <tr>\n",
              "      <th>50%</th>\n",
              "      <td>84692.00000</td>\n",
              "      <td>0.01811</td>\n",
              "      <td>0.06549</td>\n",
              "      <td>0.17985</td>\n",
              "      <td>-0.01985</td>\n",
              "      <td>-0.05434</td>\n",
              "      <td>-0.27419</td>\n",
              "      <td>0.04010</td>\n",
              "      <td>0.02236</td>\n",
              "      <td>-0.05143</td>\n",
              "      <td>-0.09292</td>\n",
              "      <td>-0.03276</td>\n",
              "      <td>0.14003</td>\n",
              "      <td>-0.01357</td>\n",
              "      <td>0.05060</td>\n",
              "      <td>0.04807</td>\n",
              "      <td>0.06641</td>\n",
              "      <td>-0.06568</td>\n",
              "      <td>-0.00364</td>\n",
              "      <td>0.00373</td>\n",
              "      <td>-0.06248</td>\n",
              "      <td>-0.02945</td>\n",
              "      <td>0.00678</td>\n",
              "      <td>-0.01119</td>\n",
              "      <td>0.04098</td>\n",
              "      <td>0.01659</td>\n",
              "      <td>-0.05214</td>\n",
              "      <td>0.00134</td>\n",
              "      <td>0.01124</td>\n",
              "      <td>22.00000</td>\n",
              "      <td>0.00000</td>\n",
              "    </tr>\n",
              "    <tr>\n",
              "      <th>75%</th>\n",
              "      <td>139320.50000</td>\n",
              "      <td>1.31564</td>\n",
              "      <td>0.80372</td>\n",
              "      <td>1.02720</td>\n",
              "      <td>0.74334</td>\n",
              "      <td>0.61193</td>\n",
              "      <td>0.39856</td>\n",
              "      <td>0.57044</td>\n",
              "      <td>0.32735</td>\n",
              "      <td>0.59714</td>\n",
              "      <td>0.45392</td>\n",
              "      <td>0.73959</td>\n",
              "      <td>0.61824</td>\n",
              "      <td>0.66250</td>\n",
              "      <td>0.49315</td>\n",
              "      <td>0.64882</td>\n",
              "      <td>0.52330</td>\n",
              "      <td>0.39967</td>\n",
              "      <td>0.50081</td>\n",
              "      <td>0.45895</td>\n",
              "      <td>0.13304</td>\n",
              "      <td>0.18638</td>\n",
              "      <td>0.52855</td>\n",
              "      <td>0.14764</td>\n",
              "      <td>0.43953</td>\n",
              "      <td>0.35072</td>\n",
              "      <td>0.24095</td>\n",
              "      <td>0.09105</td>\n",
              "      <td>0.07828</td>\n",
              "      <td>77.16500</td>\n",
              "      <td>0.00000</td>\n",
              "    </tr>\n",
              "    <tr>\n",
              "      <th>max</th>\n",
              "      <td>172792.00000</td>\n",
              "      <td>2.45493</td>\n",
              "      <td>22.05773</td>\n",
              "      <td>9.38256</td>\n",
              "      <td>16.87534</td>\n",
              "      <td>34.80167</td>\n",
              "      <td>73.30163</td>\n",
              "      <td>120.58949</td>\n",
              "      <td>20.00721</td>\n",
              "      <td>15.59499</td>\n",
              "      <td>23.74514</td>\n",
              "      <td>12.01891</td>\n",
              "      <td>7.84839</td>\n",
              "      <td>7.12688</td>\n",
              "      <td>10.52677</td>\n",
              "      <td>8.87774</td>\n",
              "      <td>17.31511</td>\n",
              "      <td>9.25353</td>\n",
              "      <td>5.04107</td>\n",
              "      <td>5.59197</td>\n",
              "      <td>39.42090</td>\n",
              "      <td>27.20284</td>\n",
              "      <td>10.50309</td>\n",
              "      <td>22.52841</td>\n",
              "      <td>4.58455</td>\n",
              "      <td>7.51959</td>\n",
              "      <td>3.51735</td>\n",
              "      <td>31.61220</td>\n",
              "      <td>33.84781</td>\n",
              "      <td>25691.16000</td>\n",
              "      <td>1.00000</td>\n",
              "    </tr>\n",
              "  </tbody>\n",
              "</table>\n",
              "</div>"
            ],
            "text/plain": [
              "              Time           V1  ...       Amount        Class\n",
              "count 284807.00000 284807.00000  ... 284807.00000 284807.00000\n",
              "mean   94813.85958      0.00000  ...     88.34962      0.00173\n",
              "std    47488.14595      1.95870  ...    250.12011      0.04153\n",
              "min        0.00000    -56.40751  ...      0.00000      0.00000\n",
              "25%    54201.50000     -0.92037  ...      5.60000      0.00000\n",
              "50%    84692.00000      0.01811  ...     22.00000      0.00000\n",
              "75%   139320.50000      1.31564  ...     77.16500      0.00000\n",
              "max   172792.00000      2.45493  ...  25691.16000      1.00000\n",
              "\n",
              "[8 rows x 31 columns]"
            ]
          },
          "metadata": {
            "tags": []
          },
          "execution_count": 5
        }
      ]
    },
    {
      "cell_type": "markdown",
      "metadata": {
        "id": "yLiHk9z9MVI7"
      },
      "source": [
        "####Data distribution among both non-fraud and fraud classes"
      ]
    },
    {
      "cell_type": "code",
      "metadata": {
        "colab": {
          "base_uri": "https://localhost:8080/"
        },
        "id": "OTHpHmDS0b-5",
        "outputId": "b895e8ee-c819-452c-e590-c3435a1947c7"
      },
      "source": [
        "print('No Frauds', round(df['Class'].value_counts()[0]/len(df) * 100,2), '% of the dataset')\n",
        "print('Frauds', round(df['Class'].value_counts()[1]/len(df) * 100,2), '% of the dataset')"
      ],
      "execution_count": 6,
      "outputs": [
        {
          "output_type": "stream",
          "text": [
            "No Frauds 99.83 % of the dataset\n",
            "Frauds 0.17 % of the dataset\n"
          ],
          "name": "stdout"
        }
      ]
    },
    {
      "cell_type": "code",
      "metadata": {
        "colab": {
          "base_uri": "https://localhost:8080/",
          "height": 638
        },
        "id": "8DWCX9uK6ES4",
        "outputId": "5b201a66-6db8-46cb-a064-a3814b97926e"
      },
      "source": [
        "fig, ax = plt.subplots(figsize=(15,10)) \n",
        "corr = df.corr()\n",
        "sns.heatmap(corr, cmap='coolwarm', annot_kws={'size':30}, ax=ax)\n",
        "ax.set_title(\"Imbalanced Correlation Matrix\", fontsize=14)\n",
        "plt.show()"
      ],
      "execution_count": 7,
      "outputs": [
        {
          "output_type": "display_data",
          "data": {
            "image/png": "[encoded data removed]",
            "text/plain": [
              "<Figure size 1080x720 with 2 Axes>"
            ]
          },
          "metadata": {
            "tags": [],
            "needs_background": "light"
          }
        }
      ]
    },
    {
      "cell_type": "code",
      "metadata": {
        "colab": {
          "base_uri": "https://localhost:8080/",
          "height": 366
        },
        "id": "WvnMe1qL0ope",
        "outputId": "b54c4d89-aba8-446a-8488-bf4c1d5d6656"
      },
      "source": [
        "colors = [\"#0101DF\", \"#DF0101\"]\n",
        "\n",
        "sns.countplot('Class', data=df, palette=colors)\n",
        "plt.title('(0: No Fraud || 1: Fraud)', fontsize=14)"
      ],
      "execution_count": 8,
      "outputs": [
        {
          "output_type": "stream",
          "text": [
            "/usr/local/lib/python3.7/dist-packages/seaborn/_decorators.py:43: FutureWarning: Pass the following variable as a keyword arg: x. From version 0.12, the only valid positional argument will be `data`, and passing other arguments without an explicit keyword will result in an error or misinterpretation.\n",
            "  FutureWarning\n"
          ],
          "name": "stderr"
        },
        {
          "output_type": "execute_result",
          "data": {
            "text/plain": [
              "Text(0.5, 1.0, '(0: No Fraud || 1: Fraud)')"
            ]
          },
          "metadata": {
            "tags": []
          },
          "execution_count": 8
        },
        {
          "output_type": "display_data",
          "data": {
            "image/png": "[encoded data removed]",
            "text/plain": [
              "<Figure size 432x288 with 1 Axes>"
            ]
          },
          "metadata": {
            "tags": [],
            "needs_background": "light"
          }
        }
      ]
    },
    {
      "cell_type": "markdown",
      "metadata": {
        "id": "0ejNLl99NCbe"
      },
      "source": [
        "####Exploring the Time feature"
      ]
    },
    {
      "cell_type": "code",
      "metadata": {
        "colab": {
          "base_uri": "https://localhost:8080/",
          "height": 583
        },
        "id": "nh0qcC8dy3wZ",
        "outputId": "69fd3655-e4f8-45e0-fb96-aae21bb53cce"
      },
      "source": [
        "plt.figure(figsize=(10,8))\n",
        "plt.title('Distribution of Time Feature')\n",
        "sns.distplot(df.Time)"
      ],
      "execution_count": 9,
      "outputs": [
        {
          "output_type": "stream",
          "text": [
            "/usr/local/lib/python3.7/dist-packages/seaborn/distributions.py:2557: FutureWarning: `distplot` is a deprecated function and will be removed in a future version. Please adapt your code to use either `displot` (a figure-level function with similar flexibility) or `histplot` (an axes-level function for histograms).\n",
            "  warnings.warn(msg, FutureWarning)\n"
          ],
          "name": "stderr"
        },
        {
          "output_type": "execute_result",
          "data": {
            "text/plain": [
              "<matplotlib.axes._subplots.AxesSubplot at 0x7fae3c6c43d0>"
            ]
          },
          "metadata": {
            "tags": []
          },
          "execution_count": 9
        },
        {
          "output_type": "display_data",
          "data": {
            "image/png": "[encoded data removed]",
            "text/plain": [
              "<Figure size 720x576 with 1 Axes>"
            ]
          },
          "metadata": {
            "tags": [],
            "needs_background": "light"
          }
        }
      ]
    },
    {
      "cell_type": "markdown",
      "metadata": {
        "id": "0sXiELPwFwTa"
      },
      "source": [
        "###Since Amount and Time are having higher values from other features we have to scale them according to our given features and also Time feature is not important because it is of small duration"
      ]
    },
    {
      "cell_type": "code",
      "metadata": {
        "id": "d986qIRwDXba"
      },
      "source": [
        "df['Scaled_Amount'] = StandardScaler().fit_transform(df['Amount'].values.reshape(-1, 1))\n",
        "df = df.drop(['Time', 'Amount'], axis=1)"
      ],
      "execution_count": 10,
      "outputs": []
    },
    {
      "cell_type": "code",
      "metadata": {
        "colab": {
          "base_uri": "https://localhost:8080/",
          "height": 223
        },
        "id": "IS1uAYuCXPpD",
        "outputId": "88682b37-ac21-4eef-f81a-1a69f74406ae"
      },
      "source": [
        "df.head()"
      ],
      "execution_count": 11,
      "outputs": [
        {
          "output_type": "execute_result",
          "data": {
            "text/html": [
              "<div>\n",
              "<style scoped>\n",
              "    .dataframe tbody tr th:only-of-type {\n",
              "        vertical-align: middle;\n",
              "    }\n",
              "\n",
              "    .dataframe tbody tr th {\n",
              "        vertical-align: top;\n",
              "    }\n",
              "\n",
              "    .dataframe thead th {\n",
              "        text-align: right;\n",
              "    }\n",
              "</style>\n",
              "<table border=\"1\" class=\"dataframe\">\n",
              "  <thead>\n",
              "    <tr style=\"text-align: right;\">\n",
              "      <th></th>\n",
              "      <th>V1</th>\n",
              "      <th>V2</th>\n",
              "      <th>V3</th>\n",
              "      <th>V4</th>\n",
              "      <th>V5</th>\n",
              "      <th>V6</th>\n",
              "      <th>V7</th>\n",
              "      <th>V8</th>\n",
              "      <th>V9</th>\n",
              "      <th>V10</th>\n",
              "      <th>V11</th>\n",
              "      <th>V12</th>\n",
              "      <th>V13</th>\n",
              "      <th>V14</th>\n",
              "      <th>V15</th>\n",
              "      <th>V16</th>\n",
              "      <th>V17</th>\n",
              "      <th>V18</th>\n",
              "      <th>V19</th>\n",
              "      <th>V20</th>\n",
              "      <th>V21</th>\n",
              "      <th>V22</th>\n",
              "      <th>V23</th>\n",
              "      <th>V24</th>\n",
              "      <th>V25</th>\n",
              "      <th>V26</th>\n",
              "      <th>V27</th>\n",
              "      <th>V28</th>\n",
              "      <th>Class</th>\n",
              "      <th>Scaled_Amount</th>\n",
              "    </tr>\n",
              "  </thead>\n",
              "  <tbody>\n",
              "    <tr>\n",
              "      <th>0</th>\n",
              "      <td>-1.35981</td>\n",
              "      <td>-0.07278</td>\n",
              "      <td>2.53635</td>\n",
              "      <td>1.37816</td>\n",
              "      <td>-0.33832</td>\n",
              "      <td>0.46239</td>\n",
              "      <td>0.23960</td>\n",
              "      <td>0.09870</td>\n",
              "      <td>0.36379</td>\n",
              "      <td>0.09079</td>\n",
              "      <td>-0.55160</td>\n",
              "      <td>-0.61780</td>\n",
              "      <td>-0.99139</td>\n",
              "      <td>-0.31117</td>\n",
              "      <td>1.46818</td>\n",
              "      <td>-0.47040</td>\n",
              "      <td>0.20797</td>\n",
              "      <td>0.02579</td>\n",
              "      <td>0.40399</td>\n",
              "      <td>0.25141</td>\n",
              "      <td>-0.01831</td>\n",
              "      <td>0.27784</td>\n",
              "      <td>-0.11047</td>\n",
              "      <td>0.06693</td>\n",
              "      <td>0.12854</td>\n",
              "      <td>-0.18911</td>\n",
              "      <td>0.13356</td>\n",
              "      <td>-0.02105</td>\n",
              "      <td>0</td>\n",
              "      <td>0.24496</td>\n",
              "    </tr>\n",
              "    <tr>\n",
              "      <th>1</th>\n",
              "      <td>1.19186</td>\n",
              "      <td>0.26615</td>\n",
              "      <td>0.16648</td>\n",
              "      <td>0.44815</td>\n",
              "      <td>0.06002</td>\n",
              "      <td>-0.08236</td>\n",
              "      <td>-0.07880</td>\n",
              "      <td>0.08510</td>\n",
              "      <td>-0.25543</td>\n",
              "      <td>-0.16697</td>\n",
              "      <td>1.61273</td>\n",
              "      <td>1.06524</td>\n",
              "      <td>0.48910</td>\n",
              "      <td>-0.14377</td>\n",
              "      <td>0.63556</td>\n",
              "      <td>0.46392</td>\n",
              "      <td>-0.11480</td>\n",
              "      <td>-0.18336</td>\n",
              "      <td>-0.14578</td>\n",
              "      <td>-0.06908</td>\n",
              "      <td>-0.22578</td>\n",
              "      <td>-0.63867</td>\n",
              "      <td>0.10129</td>\n",
              "      <td>-0.33985</td>\n",
              "      <td>0.16717</td>\n",
              "      <td>0.12589</td>\n",
              "      <td>-0.00898</td>\n",
              "      <td>0.01472</td>\n",
              "      <td>0</td>\n",
              "      <td>-0.34247</td>\n",
              "    </tr>\n",
              "    <tr>\n",
              "      <th>2</th>\n",
              "      <td>-1.35835</td>\n",
              "      <td>-1.34016</td>\n",
              "      <td>1.77321</td>\n",
              "      <td>0.37978</td>\n",
              "      <td>-0.50320</td>\n",
              "      <td>1.80050</td>\n",
              "      <td>0.79146</td>\n",
              "      <td>0.24768</td>\n",
              "      <td>-1.51465</td>\n",
              "      <td>0.20764</td>\n",
              "      <td>0.62450</td>\n",
              "      <td>0.06608</td>\n",
              "      <td>0.71729</td>\n",
              "      <td>-0.16595</td>\n",
              "      <td>2.34586</td>\n",
              "      <td>-2.89008</td>\n",
              "      <td>1.10997</td>\n",
              "      <td>-0.12136</td>\n",
              "      <td>-2.26186</td>\n",
              "      <td>0.52498</td>\n",
              "      <td>0.24800</td>\n",
              "      <td>0.77168</td>\n",
              "      <td>0.90941</td>\n",
              "      <td>-0.68928</td>\n",
              "      <td>-0.32764</td>\n",
              "      <td>-0.13910</td>\n",
              "      <td>-0.05535</td>\n",
              "      <td>-0.05975</td>\n",
              "      <td>0</td>\n",
              "      <td>1.16069</td>\n",
              "    </tr>\n",
              "    <tr>\n",
              "      <th>3</th>\n",
              "      <td>-0.96627</td>\n",
              "      <td>-0.18523</td>\n",
              "      <td>1.79299</td>\n",
              "      <td>-0.86329</td>\n",
              "      <td>-0.01031</td>\n",
              "      <td>1.24720</td>\n",
              "      <td>0.23761</td>\n",
              "      <td>0.37744</td>\n",
              "      <td>-1.38702</td>\n",
              "      <td>-0.05495</td>\n",
              "      <td>-0.22649</td>\n",
              "      <td>0.17823</td>\n",
              "      <td>0.50776</td>\n",
              "      <td>-0.28792</td>\n",
              "      <td>-0.63142</td>\n",
              "      <td>-1.05965</td>\n",
              "      <td>-0.68409</td>\n",
              "      <td>1.96578</td>\n",
              "      <td>-1.23262</td>\n",
              "      <td>-0.20804</td>\n",
              "      <td>-0.10830</td>\n",
              "      <td>0.00527</td>\n",
              "      <td>-0.19032</td>\n",
              "      <td>-1.17558</td>\n",
              "      <td>0.64738</td>\n",
              "      <td>-0.22193</td>\n",
              "      <td>0.06272</td>\n",
              "      <td>0.06146</td>\n",
              "      <td>0</td>\n",
              "      <td>0.14053</td>\n",
              "    </tr>\n",
              "    <tr>\n",
              "      <th>4</th>\n",
              "      <td>-1.15823</td>\n",
              "      <td>0.87774</td>\n",
              "      <td>1.54872</td>\n",
              "      <td>0.40303</td>\n",
              "      <td>-0.40719</td>\n",
              "      <td>0.09592</td>\n",
              "      <td>0.59294</td>\n",
              "      <td>-0.27053</td>\n",
              "      <td>0.81774</td>\n",
              "      <td>0.75307</td>\n",
              "      <td>-0.82284</td>\n",
              "      <td>0.53820</td>\n",
              "      <td>1.34585</td>\n",
              "      <td>-1.11967</td>\n",
              "      <td>0.17512</td>\n",
              "      <td>-0.45145</td>\n",
              "      <td>-0.23703</td>\n",
              "      <td>-0.03819</td>\n",
              "      <td>0.80349</td>\n",
              "      <td>0.40854</td>\n",
              "      <td>-0.00943</td>\n",
              "      <td>0.79828</td>\n",
              "      <td>-0.13746</td>\n",
              "      <td>0.14127</td>\n",
              "      <td>-0.20601</td>\n",
              "      <td>0.50229</td>\n",
              "      <td>0.21942</td>\n",
              "      <td>0.21515</td>\n",
              "      <td>0</td>\n",
              "      <td>-0.07340</td>\n",
              "    </tr>\n",
              "  </tbody>\n",
              "</table>\n",
              "</div>"
            ],
            "text/plain": [
              "        V1       V2      V3       V4  ...      V27      V28  Class  Scaled_Amount\n",
              "0 -1.35981 -0.07278 2.53635  1.37816  ...  0.13356 -0.02105      0        0.24496\n",
              "1  1.19186  0.26615 0.16648  0.44815  ... -0.00898  0.01472      0       -0.34247\n",
              "2 -1.35835 -1.34016 1.77321  0.37978  ... -0.05535 -0.05975      0        1.16069\n",
              "3 -0.96627 -0.18523 1.79299 -0.86329  ...  0.06272  0.06146      0        0.14053\n",
              "4 -1.15823  0.87774 1.54872  0.40303  ...  0.21942  0.21515      0       -0.07340\n",
              "\n",
              "[5 rows x 30 columns]"
            ]
          },
          "metadata": {
            "tags": []
          },
          "execution_count": 11
        }
      ]
    },
    {
      "cell_type": "code",
      "metadata": {
        "id": "tyHAJI7_WHvW"
      },
      "source": [
        "#function for plotting confusion matrix\n",
        "def plot_cm(cm):\n",
        "  plt.figure(figsize = (15,3))\n",
        "  plt.subplots_adjust(hspace = 0.5, wspace = 0.5)\n",
        "  plt.subplot(1,2,1)\n",
        "  sns.heatmap(cm, annot = True, fmt = 'g', cmap = plt.cm.Blues)\n",
        "  plt.xlabel('Predicted Label')\n",
        "  plt.ylabel('True Label')\n",
        "  plt.title(\"Recall Score: {}%\".format(100*cm[1,1]/(cm[1,0]+cm[1,1])))\n",
        "  plt.show()"
      ],
      "execution_count": 12,
      "outputs": []
    },
    {
      "cell_type": "markdown",
      "metadata": {
        "id": "z8UglIf4fe66"
      },
      "source": [
        "#K-Fold Cross validation\n",
        "###Finding the best parameters"
      ]
    },
    {
      "cell_type": "code",
      "metadata": {
        "id": "vxwd-v1UMtKA"
      },
      "source": [
        "#function for Kfold and Grid search\n",
        "def Grid_Kfold(X_data,y_data):\n",
        "  model_cv = GridSearchCV(estimator = LogisticRegression(),\n",
        "                        param_grid = {\"C\": [0.01, 0.1, 1, 10, 100]}, \n",
        "                        scoring= 'roc_auc', \n",
        "                        cv = KFold(n_splits=10, shuffle=True, random_state=42), \n",
        "                        n_jobs=3,\n",
        "                        verbose = 5,\n",
        "                        return_train_score=True)\n",
        "  model_cv.fit(X_data,y_data)\n",
        "  print('Best ROC AUC score: ', model_cv.best_score_)\n",
        "  #print the optimum value of hyperparameters\n",
        "  print('Best hyperparameters: ', model_cv.best_params_)"
      ],
      "execution_count": 13,
      "outputs": []
    },
    {
      "cell_type": "markdown",
      "metadata": {
        "id": "g2yHdVmGGox2"
      },
      "source": [
        "#Logistic Regression(L1) using Downsampling"
      ]
    },
    {
      "cell_type": "code",
      "metadata": {
        "id": "tMyL3ugRXgw8"
      },
      "source": [
        "X = df.iloc[:, df.columns != 'Class']\n",
        "y = df.iloc[:, df.columns == 'Class']\n",
        "X_train, X_test, y_train, y_test = train_test_split(X, y, test_size = 0.3, random_state = 0)"
      ],
      "execution_count": 14,
      "outputs": []
    },
    {
      "cell_type": "code",
      "metadata": {
        "id": "PvIvXuenmvem"
      },
      "source": [
        "fraud_sample = len(df[df.Class == 1])\n",
        "\n",
        "#getting index of fraud transactions\n",
        "fraud_indices = np.array(df[df.Class == 1].index)\n",
        "#getting index of normal transactions\n",
        "normal_indices = df[df.Class == 0].index\n",
        "#extract random samples to create sub-smaples \n",
        "random_normal_indices = np.random.choice(normal_indices, fraud_sample, replace=False)\n",
        "random_normal_indices = np.array(random_normal_indices)\n",
        "\n",
        "#combine both the samples,Total 984 samples\n",
        "us_indices = np.concatenate([fraud_indices, random_normal_indices])\n",
        "\n",
        "#creating sub-samples\n",
        "u_data = df.iloc[us_indices, :]\n",
        "X_undersample = u_data.iloc[:, u_data.columns != 'Class']\n",
        "y_undersample = u_data.iloc[:, u_data.columns == 'Class']\n",
        "\n",
        "#splitting the under sampled data\n",
        "X_train_undersample,X_test_undersample,y_train_undersample,y_test_undersample = train_test_split(X_undersample,y_undersample,test_size = 0.3,random_state = 0)"
      ],
      "execution_count": 15,
      "outputs": []
    },
    {
      "cell_type": "code",
      "metadata": {
        "colab": {
          "base_uri": "https://localhost:8080/"
        },
        "id": "wI1rp3woarqi",
        "outputId": "749df968-6f73-49a4-b42c-731713ae99fe"
      },
      "source": [
        "Grid_Kfold(X_undersample,y_undersample)"
      ],
      "execution_count": 16,
      "outputs": [
        {
          "output_type": "stream",
          "text": [
            "Fitting 10 folds for each of 5 candidates, totalling 50 fits\n"
          ],
          "name": "stdout"
        },
        {
          "output_type": "stream",
          "text": [
            "[Parallel(n_jobs=3)]: Using backend LokyBackend with 3 concurrent workers.\n",
            "[Parallel(n_jobs=3)]: Done  12 tasks      | elapsed:    2.1s\n"
          ],
          "name": "stderr"
        },
        {
          "output_type": "stream",
          "text": [
            "Best ROC AUC score:  0.9799775240608861\n",
            "Best hyperparameters:  {'C': 0.01}\n"
          ],
          "name": "stdout"
        },
        {
          "output_type": "stream",
          "text": [
            "[Parallel(n_jobs=3)]: Done  50 out of  50 | elapsed:    3.2s finished\n",
            "/usr/local/lib/python3.7/dist-packages/sklearn/utils/validation.py:760: DataConversionWarning: A column-vector y was passed when a 1d array was expected. Please change the shape of y to (n_samples, ), for example using ravel().\n",
            "  y = column_or_1d(y, warn=True)\n"
          ],
          "name": "stderr"
        }
      ]
    },
    {
      "cell_type": "code",
      "metadata": {
        "colab": {
          "base_uri": "https://localhost:8080/",
          "height": 274
        },
        "id": "MiK-ztxznrZe",
        "outputId": "e4b2a4b3-28cb-43d7-cfb2-ac3e31bdc54f"
      },
      "source": [
        "lr = LogisticRegression(C = 0.01, penalty = 'l1',solver='saga')\n",
        "lr.fit(X_train_undersample,y_train_undersample.values.ravel())\n",
        "y_pred_undersample = lr.predict(X_test.values)\n",
        "cnf_matrix_undersample = confusion_matrix(y_test, y_pred_undersample) \n",
        "#calling function\n",
        "plot_cm(cnf_matrix_undersample)"
      ],
      "execution_count": 17,
      "outputs": [
        {
          "output_type": "stream",
          "text": [
            "/usr/local/lib/python3.7/dist-packages/sklearn/linear_model/_sag.py:330: ConvergenceWarning: The max_iter was reached which means the coef_ did not converge\n",
            "  \"the coef_ did not converge\", ConvergenceWarning)\n"
          ],
          "name": "stderr"
        },
        {
          "output_type": "display_data",
          "data": {
            "image/png": "[encoded data removed]",
            "text/plain": [
              "<Figure size 1080x216 with 2 Axes>"
            ]
          },
          "metadata": {
            "tags": [],
            "needs_background": "light"
          }
        }
      ]
    },
    {
      "cell_type": "markdown",
      "metadata": {
        "id": "_gTmJOtDQAP2"
      },
      "source": [
        "#Logistic Regression(L2) using Oversampling(SMOTE)"
      ]
    },
    {
      "cell_type": "code",
      "metadata": {
        "colab": {
          "base_uri": "https://localhost:8080/"
        },
        "id": "XqyU573cJLhW",
        "outputId": "3f6cca8b-6edc-4e48-e23f-2fbcd3a0804e"
      },
      "source": [
        "#creating two variables\n",
        "columns=df.columns\n",
        "#sepersting features without the traget variable\n",
        "features_columns=columns.delete(len(columns)-1)\n",
        "features=df[features_columns]\n",
        "#seperating the target class\n",
        "labels=df['Class']\n",
        "\n",
        "train_features, test_features, train_labels, test_labels = train_test_split(features,labels, test_size=0.3, random_state=0)\n",
        "#using SMOTE\n",
        "oversample=SMOTE(random_state=0)\n",
        "os_features,os_labels=oversample.fit_sample(train_features,train_labels)\n",
        "\n",
        "os_features = pd.DataFrame(os_features)\n",
        "os_labels = pd.DataFrame(os_labels)"
      ],
      "execution_count": 18,
      "outputs": [
        {
          "output_type": "stream",
          "text": [
            "/usr/local/lib/python3.7/dist-packages/sklearn/utils/deprecation.py:87: FutureWarning: Function safe_indexing is deprecated; safe_indexing is deprecated in version 0.22 and will be removed in version 0.24.\n",
            "  warnings.warn(msg, category=FutureWarning)\n"
          ],
          "name": "stderr"
        }
      ]
    },
    {
      "cell_type": "code",
      "metadata": {
        "colab": {
          "base_uri": "https://localhost:8080/"
        },
        "id": "D0NPtHbwcONq",
        "outputId": "39a682a2-860c-4e31-fa2b-04d044f79a91"
      },
      "source": [
        "Grid_Kfold(os_features,os_labels)"
      ],
      "execution_count": 19,
      "outputs": [
        {
          "output_type": "stream",
          "text": [
            "Fitting 10 folds for each of 5 candidates, totalling 50 fits\n"
          ],
          "name": "stdout"
        },
        {
          "output_type": "stream",
          "text": [
            "[Parallel(n_jobs=3)]: Using backend LokyBackend with 3 concurrent workers.\n",
            "[Parallel(n_jobs=3)]: Done  12 tasks      | elapsed:   28.0s\n",
            "[Parallel(n_jobs=3)]: Done  50 out of  50 | elapsed:  2.8min finished\n",
            "/usr/local/lib/python3.7/dist-packages/sklearn/utils/validation.py:760: DataConversionWarning: A column-vector y was passed when a 1d array was expected. Please change the shape of y to (n_samples, ), for example using ravel().\n",
            "  y = column_or_1d(y, warn=True)\n"
          ],
          "name": "stderr"
        },
        {
          "output_type": "stream",
          "text": [
            "Best ROC AUC score:  1.0\n",
            "Best hyperparameters:  {'C': 0.1}\n"
          ],
          "name": "stdout"
        }
      ]
    },
    {
      "cell_type": "code",
      "metadata": {
        "colab": {
          "base_uri": "https://localhost:8080/",
          "height": 241
        },
        "id": "AjVQxjcnLYVY",
        "outputId": "921313ff-7fa8-4b72-ada6-4f344cddb665"
      },
      "source": [
        "#training with best C score\n",
        "lr1 = LogisticRegression(C = 0.1, penalty = 'l2')\n",
        "lr1.fit(os_features,os_labels.values.ravel())\n",
        "y_pred = lr1.predict(test_features.values)\n",
        "\n",
        "cnf_matrix = confusion_matrix(test_labels, y_pred) \n",
        "plot_cm(cnf_matrix)"
      ],
      "execution_count": 20,
      "outputs": [
        {
          "output_type": "display_data",
          "data": {
            "image/png": "[encoded data removed]",
            "text/plain": [
              "<Figure size 1080x216 with 2 Axes>"
            ]
          },
          "metadata": {
            "tags": [],
            "needs_background": "light"
          }
        }
      ]
    },
    {
      "cell_type": "markdown",
      "metadata": {
        "id": "htvhndqeFQtD"
      },
      "source": [
        "\n",
        "\n",
        "##Training with Feature Selection"
      ]
    },
    {
      "cell_type": "code",
      "metadata": {
        "colab": {
          "base_uri": "https://localhost:8080/"
        },
        "id": "Mxi8BKnwLFFG",
        "outputId": "295e3963-c201-4af6-f201-9a68d21d2c95"
      },
      "source": [
        "sel_ = SelectFromModel(LogisticRegression(C=0.1, penalty='l1',solver='saga'))\n",
        "sel_.fit(os_features,os_labels.values.ravel())"
      ],
      "execution_count": 21,
      "outputs": [
        {
          "output_type": "stream",
          "text": [
            "/usr/local/lib/python3.7/dist-packages/sklearn/linear_model/_sag.py:330: ConvergenceWarning: The max_iter was reached which means the coef_ did not converge\n",
            "  \"the coef_ did not converge\", ConvergenceWarning)\n"
          ],
          "name": "stderr"
        },
        {
          "output_type": "execute_result",
          "data": {
            "text/plain": [
              "SelectFromModel(estimator=LogisticRegression(C=0.1, class_weight=None,\n",
              "                                             dual=False, fit_intercept=True,\n",
              "                                             intercept_scaling=1, l1_ratio=None,\n",
              "                                             max_iter=100, multi_class='auto',\n",
              "                                             n_jobs=None, penalty='l1',\n",
              "                                             random_state=None, solver='saga',\n",
              "                                             tol=0.0001, verbose=0,\n",
              "                                             warm_start=False),\n",
              "                max_features=None, norm_order=1, prefit=False, threshold=None)"
            ]
          },
          "metadata": {
            "tags": []
          },
          "execution_count": 21
        }
      ]
    },
    {
      "cell_type": "code",
      "metadata": {
        "colab": {
          "base_uri": "https://localhost:8080/"
        },
        "id": "F71KneEHPGFx",
        "outputId": "f97a9b75-a260-42ad-8651-4dc0d5f9dac6"
      },
      "source": [
        "sf = sel_.get_support()\n",
        "print(sf)"
      ],
      "execution_count": 22,
      "outputs": [
        {
          "output_type": "stream",
          "text": [
            "[ True  True False  True  True  True  True  True False  True  True  True\n",
            "  True  True False  True  True False False False  True  True  True False\n",
            " False False False False  True]\n"
          ],
          "name": "stdout"
        }
      ]
    },
    {
      "cell_type": "code",
      "metadata": {
        "colab": {
          "base_uri": "https://localhost:8080/"
        },
        "id": "dA_o3z4sPKLP",
        "outputId": "cf901c07-7f2e-4eec-d73e-4aeb3045fec1"
      },
      "source": [
        "print('total features: {}'.format((os_features.shape[1])))\n",
        "print('selected features: {}'.format(sf.sum()))\n",
        "print('features with coefficients shrank to zero: {}'.format(\n",
        "      np.sum(sel_.estimator_.coef_ == 0)))\n",
        "a = np.sum(sel_.estimator_.coef_ == 0)\n",
        "print('The number of features which can be removed :',a)\n",
        "X_train_selected = sel_.transform(os_features)"
      ],
      "execution_count": 23,
      "outputs": [
        {
          "output_type": "stream",
          "text": [
            "total features: 29\n",
            "selected features: 18\n",
            "features with coefficients shrank to zero: 9\n",
            "The number of features which can be removed : 9\n"
          ],
          "name": "stdout"
        }
      ]
    },
    {
      "cell_type": "markdown",
      "metadata": {
        "id": "mtzFcf31kWWp"
      },
      "source": [
        "###Training with selected features"
      ]
    },
    {
      "cell_type": "code",
      "metadata": {
        "colab": {
          "base_uri": "https://localhost:8080/"
        },
        "id": "A-WDScYHCXoe",
        "outputId": "3c8e0ea4-304d-470f-b6b5-578bfc262fda"
      },
      "source": [
        "lr_l2 = LogisticRegression(C=0.1,penalty='l1',solver='saga')\n",
        "lr_l2.fit(X_train_selected,os_labels.values.ravel())"
      ],
      "execution_count": 24,
      "outputs": [
        {
          "output_type": "stream",
          "text": [
            "/usr/local/lib/python3.7/dist-packages/sklearn/linear_model/_sag.py:330: ConvergenceWarning: The max_iter was reached which means the coef_ did not converge\n",
            "  \"the coef_ did not converge\", ConvergenceWarning)\n"
          ],
          "name": "stderr"
        },
        {
          "output_type": "execute_result",
          "data": {
            "text/plain": [
              "LogisticRegression(C=0.1, class_weight=None, dual=False, fit_intercept=True,\n",
              "                   intercept_scaling=1, l1_ratio=None, max_iter=100,\n",
              "                   multi_class='auto', n_jobs=None, penalty='l1',\n",
              "                   random_state=None, solver='saga', tol=0.0001, verbose=0,\n",
              "                   warm_start=False)"
            ]
          },
          "metadata": {
            "tags": []
          },
          "execution_count": 24
        }
      ]
    },
    {
      "cell_type": "code",
      "metadata": {
        "id": "HjHvFXqWjS8l"
      },
      "source": [
        "from sklearn.metrics import (f1_score, roc_auc_score,confusion_matrix, accuracy_score,\n",
        "                             precision_score, recall_score)\n",
        "from IPython.display import HTML, display\n",
        "import tabulate\n",
        "def predict_and_evaluate(model, x_test, y_test):\n",
        "    predictions = model.predict(x_test)\n",
        "    accuracy = accuracy_score(y_test, predictions)\n",
        "    precision = precision_score(y_test, predictions)\n",
        "    recall = recall_score(y_test, predictions)\n",
        "    f1 = f1_score(y_test, predictions)\n",
        "    tn, fp, fn, tp = confusion_matrix(y_test, predictions).ravel()\n",
        "    \n",
        "    metrics = [round(accuracy,2),fp, fn, round(precision,2), round(recall,2), round(f1,2)]\n",
        "    table = [[model.__class__.__name__] + metrics]\n",
        "    display(HTML(tabulate.tabulate(table,headers=('Algorithm','accuracy','False Positives', \n",
        "                                                  'False Negatives', 'Precision', \n",
        "                                                  'Recall', 'F1 Score'), \n",
        "                                   tablefmt='html')))\n",
        "    #print(accuracy)\n",
        "    return [model.__class__.__name__] + metrics"
      ],
      "execution_count": 25,
      "outputs": []
    },
    {
      "cell_type": "code",
      "metadata": {
        "colab": {
          "base_uri": "https://localhost:8080/",
          "height": 102
        },
        "id": "dH2BRfdrjhrD",
        "outputId": "e43facdf-c72e-4479-a4b3-f142be3fccb2"
      },
      "source": [
        "lr_res = predict_and_evaluate(lr,X_test,y_test)\n",
        "l1_res = predict_and_evaluate(lr1,X_test,y_test)"
      ],
      "execution_count": 26,
      "outputs": [
        {
          "output_type": "display_data",
          "data": {
            "text/html": [
              "<table>\n",
              "<thead>\n",
              "<tr><th>Algorithm         </th><th style=\"text-align: right;\">  accuracy</th><th style=\"text-align: right;\">  False Positives</th><th style=\"text-align: right;\">  False Negatives</th><th style=\"text-align: right;\">  Precision</th><th style=\"text-align: right;\">  Recall</th><th style=\"text-align: right;\">  F1 Score</th></tr>\n",
              "</thead>\n",
              "<tbody>\n",
              "<tr><td>LogisticRegression</td><td style=\"text-align: right;\">      0.93</td><td style=\"text-align: right;\">                0</td><td style=\"text-align: right;\">               22</td><td style=\"text-align: right;\">          1</td><td style=\"text-align: right;\">    0.85</td><td style=\"text-align: right;\">      0.92</td></tr>\n",
              "</tbody>\n",
              "</table>"
            ],
            "text/plain": [
              "<IPython.core.display.HTML object>"
            ]
          },
          "metadata": {
            "tags": []
          }
        },
        {
          "output_type": "display_data",
          "data": {
            "text/html": [
              "<table>\n",
              "<thead>\n",
              "<tr><th>Algorithm         </th><th style=\"text-align: right;\">  accuracy</th><th style=\"text-align: right;\">  False Positives</th><th style=\"text-align: right;\">  False Negatives</th><th style=\"text-align: right;\">  Precision</th><th style=\"text-align: right;\">  Recall</th><th style=\"text-align: right;\">  F1 Score</th></tr>\n",
              "</thead>\n",
              "<tbody>\n",
              "<tr><td>LogisticRegression</td><td style=\"text-align: right;\">         1</td><td style=\"text-align: right;\">                5</td><td style=\"text-align: right;\">                0</td><td style=\"text-align: right;\">       0.97</td><td style=\"text-align: right;\">       1</td><td style=\"text-align: right;\">      0.98</td></tr>\n",
              "</tbody>\n",
              "</table>"
            ],
            "text/plain": [
              "<IPython.core.display.HTML object>"
            ]
          },
          "metadata": {
            "tags": []
          }
        }
      ]
    }
  ]
}