{
  "nbformat": 4,
  "nbformat_minor": 0,
  "metadata": {
    "colab": {
      "name": "CCFD.ipynb",
      "provenance": []
    },
    "kernelspec": {
      "name": "python3",
      "display_name": "Python 3"
    },
    "language_info": {
      "name": "python"
    }
  },
  "cells": [
    {
      "cell_type": "code",
      "metadata": {
        "colab": {
          "base_uri": "https://localhost:8080/"
        },
        "id": "_D-XFP6QUIek",
        "outputId": "44470da9-248d-4f5a-82dd-aed30070443a"
      },
      "source": [
        "!unzip -q \"/content/drive/MyDrive/DATA/archive.zip\""
      ],
      "execution_count": 88,
      "outputs": [
        {
          "output_type": "stream",
          "text": [
            "replace creditcard.csv? [y]es, [n]o, [A]ll, [N]one, [r]ename: y\n"
          ],
          "name": "stdout"
        }
      ]
    },
    {
      "cell_type": "code",
      "metadata": {
        "id": "vtR8Pr4gVLA3"
      },
      "source": [
        "import pandas as pd\n",
        "df = pd.read_csv(\"/content/creditcard.csv\")"
      ],
      "execution_count": 89,
      "outputs": []
    },
    {
      "cell_type": "code",
      "metadata": {
        "colab": {
          "base_uri": "https://localhost:8080/",
          "height": 223
        },
        "id": "CC81uD9xVi54",
        "outputId": "02cd40af-64ed-4a19-e480-c58acd306baa"
      },
      "source": [
        "df.head()"
      ],
      "execution_count": 90,
      "outputs": [
        {
          "output_type": "execute_result",
          "data": {
            "text/html": [
              "<div>\n",
              "<style scoped>\n",
              "    .dataframe tbody tr th:only-of-type {\n",
              "        vertical-align: middle;\n",
              "    }\n",
              "\n",
              "    .dataframe tbody tr th {\n",
              "        vertical-align: top;\n",
              "    }\n",
              "\n",
              "    .dataframe thead th {\n",
              "        text-align: right;\n",
              "    }\n",
              "</style>\n",
              "<table border=\"1\" class=\"dataframe\">\n",
              "  <thead>\n",
              "    <tr style=\"text-align: right;\">\n",
              "      <th></th>\n",
              "      <th>Time</th>\n",
              "      <th>V1</th>\n",
              "      <th>V2</th>\n",
              "      <th>V3</th>\n",
              "      <th>V4</th>\n",
              "      <th>V5</th>\n",
              "      <th>V6</th>\n",
              "      <th>V7</th>\n",
              "      <th>V8</th>\n",
              "      <th>V9</th>\n",
              "      <th>V10</th>\n",
              "      <th>V11</th>\n",
              "      <th>V12</th>\n",
              "      <th>V13</th>\n",
              "      <th>V14</th>\n",
              "      <th>V15</th>\n",
              "      <th>V16</th>\n",
              "      <th>V17</th>\n",
              "      <th>V18</th>\n",
              "      <th>V19</th>\n",
              "      <th>V20</th>\n",
              "      <th>V21</th>\n",
              "      <th>V22</th>\n",
              "      <th>V23</th>\n",
              "      <th>V24</th>\n",
              "      <th>V25</th>\n",
              "      <th>V26</th>\n",
              "      <th>V27</th>\n",
              "      <th>V28</th>\n",
              "      <th>Amount</th>\n",
              "      <th>Class</th>\n",
              "    </tr>\n",
              "  </thead>\n",
              "  <tbody>\n",
              "    <tr>\n",
              "      <th>0</th>\n",
              "      <td>0.0</td>\n",
              "      <td>-1.359807</td>\n",
              "      <td>-0.072781</td>\n",
              "      <td>2.536347</td>\n",
              "      <td>1.378155</td>\n",
              "      <td>-0.338321</td>\n",
              "      <td>0.462388</td>\n",
              "      <td>0.239599</td>\n",
              "      <td>0.098698</td>\n",
              "      <td>0.363787</td>\n",
              "      <td>0.090794</td>\n",
              "      <td>-0.551600</td>\n",
              "      <td>-0.617801</td>\n",
              "      <td>-0.991390</td>\n",
              "      <td>-0.311169</td>\n",
              "      <td>1.468177</td>\n",
              "      <td>-0.470401</td>\n",
              "      <td>0.207971</td>\n",
              "      <td>0.025791</td>\n",
              "      <td>0.403993</td>\n",
              "      <td>0.251412</td>\n",
              "      <td>-0.018307</td>\n",
              "      <td>0.277838</td>\n",
              "      <td>-0.110474</td>\n",
              "      <td>0.066928</td>\n",
              "      <td>0.128539</td>\n",
              "      <td>-0.189115</td>\n",
              "      <td>0.133558</td>\n",
              "      <td>-0.021053</td>\n",
              "      <td>149.62</td>\n",
              "      <td>0</td>\n",
              "    </tr>\n",
              "    <tr>\n",
              "      <th>1</th>\n",
              "      <td>0.0</td>\n",
              "      <td>1.191857</td>\n",
              "      <td>0.266151</td>\n",
              "      <td>0.166480</td>\n",
              "      <td>0.448154</td>\n",
              "      <td>0.060018</td>\n",
              "      <td>-0.082361</td>\n",
              "      <td>-0.078803</td>\n",
              "      <td>0.085102</td>\n",
              "      <td>-0.255425</td>\n",
              "      <td>-0.166974</td>\n",
              "      <td>1.612727</td>\n",
              "      <td>1.065235</td>\n",
              "      <td>0.489095</td>\n",
              "      <td>-0.143772</td>\n",
              "      <td>0.635558</td>\n",
              "      <td>0.463917</td>\n",
              "      <td>-0.114805</td>\n",
              "      <td>-0.183361</td>\n",
              "      <td>-0.145783</td>\n",
              "      <td>-0.069083</td>\n",
              "      <td>-0.225775</td>\n",
              "      <td>-0.638672</td>\n",
              "      <td>0.101288</td>\n",
              "      <td>-0.339846</td>\n",
              "      <td>0.167170</td>\n",
              "      <td>0.125895</td>\n",
              "      <td>-0.008983</td>\n",
              "      <td>0.014724</td>\n",
              "      <td>2.69</td>\n",
              "      <td>0</td>\n",
              "    </tr>\n",
              "    <tr>\n",
              "      <th>2</th>\n",
              "      <td>1.0</td>\n",
              "      <td>-1.358354</td>\n",
              "      <td>-1.340163</td>\n",
              "      <td>1.773209</td>\n",
              "      <td>0.379780</td>\n",
              "      <td>-0.503198</td>\n",
              "      <td>1.800499</td>\n",
              "      <td>0.791461</td>\n",
              "      <td>0.247676</td>\n",
              "      <td>-1.514654</td>\n",
              "      <td>0.207643</td>\n",
              "      <td>0.624501</td>\n",
              "      <td>0.066084</td>\n",
              "      <td>0.717293</td>\n",
              "      <td>-0.165946</td>\n",
              "      <td>2.345865</td>\n",
              "      <td>-2.890083</td>\n",
              "      <td>1.109969</td>\n",
              "      <td>-0.121359</td>\n",
              "      <td>-2.261857</td>\n",
              "      <td>0.524980</td>\n",
              "      <td>0.247998</td>\n",
              "      <td>0.771679</td>\n",
              "      <td>0.909412</td>\n",
              "      <td>-0.689281</td>\n",
              "      <td>-0.327642</td>\n",
              "      <td>-0.139097</td>\n",
              "      <td>-0.055353</td>\n",
              "      <td>-0.059752</td>\n",
              "      <td>378.66</td>\n",
              "      <td>0</td>\n",
              "    </tr>\n",
              "    <tr>\n",
              "      <th>3</th>\n",
              "      <td>1.0</td>\n",
              "      <td>-0.966272</td>\n",
              "      <td>-0.185226</td>\n",
              "      <td>1.792993</td>\n",
              "      <td>-0.863291</td>\n",
              "      <td>-0.010309</td>\n",
              "      <td>1.247203</td>\n",
              "      <td>0.237609</td>\n",
              "      <td>0.377436</td>\n",
              "      <td>-1.387024</td>\n",
              "      <td>-0.054952</td>\n",
              "      <td>-0.226487</td>\n",
              "      <td>0.178228</td>\n",
              "      <td>0.507757</td>\n",
              "      <td>-0.287924</td>\n",
              "      <td>-0.631418</td>\n",
              "      <td>-1.059647</td>\n",
              "      <td>-0.684093</td>\n",
              "      <td>1.965775</td>\n",
              "      <td>-1.232622</td>\n",
              "      <td>-0.208038</td>\n",
              "      <td>-0.108300</td>\n",
              "      <td>0.005274</td>\n",
              "      <td>-0.190321</td>\n",
              "      <td>-1.175575</td>\n",
              "      <td>0.647376</td>\n",
              "      <td>-0.221929</td>\n",
              "      <td>0.062723</td>\n",
              "      <td>0.061458</td>\n",
              "      <td>123.50</td>\n",
              "      <td>0</td>\n",
              "    </tr>\n",
              "    <tr>\n",
              "      <th>4</th>\n",
              "      <td>2.0</td>\n",
              "      <td>-1.158233</td>\n",
              "      <td>0.877737</td>\n",
              "      <td>1.548718</td>\n",
              "      <td>0.403034</td>\n",
              "      <td>-0.407193</td>\n",
              "      <td>0.095921</td>\n",
              "      <td>0.592941</td>\n",
              "      <td>-0.270533</td>\n",
              "      <td>0.817739</td>\n",
              "      <td>0.753074</td>\n",
              "      <td>-0.822843</td>\n",
              "      <td>0.538196</td>\n",
              "      <td>1.345852</td>\n",
              "      <td>-1.119670</td>\n",
              "      <td>0.175121</td>\n",
              "      <td>-0.451449</td>\n",
              "      <td>-0.237033</td>\n",
              "      <td>-0.038195</td>\n",
              "      <td>0.803487</td>\n",
              "      <td>0.408542</td>\n",
              "      <td>-0.009431</td>\n",
              "      <td>0.798278</td>\n",
              "      <td>-0.137458</td>\n",
              "      <td>0.141267</td>\n",
              "      <td>-0.206010</td>\n",
              "      <td>0.502292</td>\n",
              "      <td>0.219422</td>\n",
              "      <td>0.215153</td>\n",
              "      <td>69.99</td>\n",
              "      <td>0</td>\n",
              "    </tr>\n",
              "  </tbody>\n",
              "</table>\n",
              "</div>"
            ],
            "text/plain": [
              "   Time        V1        V2        V3  ...       V27       V28  Amount  Class\n",
              "0   0.0 -1.359807 -0.072781  2.536347  ...  0.133558 -0.021053  149.62      0\n",
              "1   0.0  1.191857  0.266151  0.166480  ... -0.008983  0.014724    2.69      0\n",
              "2   1.0 -1.358354 -1.340163  1.773209  ... -0.055353 -0.059752  378.66      0\n",
              "3   1.0 -0.966272 -0.185226  1.792993  ...  0.062723  0.061458  123.50      0\n",
              "4   2.0 -1.158233  0.877737  1.548718  ...  0.219422  0.215153   69.99      0\n",
              "\n",
              "[5 rows x 31 columns]"
            ]
          },
          "metadata": {
            "tags": []
          },
          "execution_count": 90
        }
      ]
    },
    {
      "cell_type": "code",
      "metadata": {
        "colab": {
          "base_uri": "https://localhost:8080/"
        },
        "id": "XdIRE6wQVo5t",
        "outputId": "fd4b557c-5fc1-44ed-ac3a-160919cf3bc6"
      },
      "source": [
        "df.shape"
      ],
      "execution_count": 91,
      "outputs": [
        {
          "output_type": "execute_result",
          "data": {
            "text/plain": [
              "(284807, 31)"
            ]
          },
          "metadata": {
            "tags": []
          },
          "execution_count": 91
        }
      ]
    },
    {
      "cell_type": "code",
      "metadata": {
        "colab": {
          "base_uri": "https://localhost:8080/"
        },
        "id": "PYGLMfPpWzCM",
        "outputId": "7f36e44b-3e41-4ffe-bd3b-e972f3f5e6d5"
      },
      "source": [
        "#checking data imbalance\n",
        "df['Class'].value_counts()"
      ],
      "execution_count": 92,
      "outputs": [
        {
          "output_type": "execute_result",
          "data": {
            "text/plain": [
              "0    284315\n",
              "1       492\n",
              "Name: Class, dtype: int64"
            ]
          },
          "metadata": {
            "tags": []
          },
          "execution_count": 92
        }
      ]
    },
    {
      "cell_type": "code",
      "metadata": {
        "id": "uWuKbVWHW5M-"
      },
      "source": [
        "import numpy as np\n",
        "import matplotlib.pyplot as plt\n",
        "import seaborn as sns\n",
        "%matplotlib inline"
      ],
      "execution_count": 93,
      "outputs": []
    },
    {
      "cell_type": "code",
      "metadata": {
        "colab": {
          "base_uri": "https://localhost:8080/"
        },
        "id": "aChvFMA4W5N2",
        "outputId": "7609cdbd-d740-42ef-b427-79a4bb8f121e"
      },
      "source": [
        "#checking null values\n",
        "df.isnull().sum()"
      ],
      "execution_count": 94,
      "outputs": [
        {
          "output_type": "execute_result",
          "data": {
            "text/plain": [
              "Time      0\n",
              "V1        0\n",
              "V2        0\n",
              "V3        0\n",
              "V4        0\n",
              "V5        0\n",
              "V6        0\n",
              "V7        0\n",
              "V8        0\n",
              "V9        0\n",
              "V10       0\n",
              "V11       0\n",
              "V12       0\n",
              "V13       0\n",
              "V14       0\n",
              "V15       0\n",
              "V16       0\n",
              "V17       0\n",
              "V18       0\n",
              "V19       0\n",
              "V20       0\n",
              "V21       0\n",
              "V22       0\n",
              "V23       0\n",
              "V24       0\n",
              "V25       0\n",
              "V26       0\n",
              "V27       0\n",
              "V28       0\n",
              "Amount    0\n",
              "Class     0\n",
              "dtype: int64"
            ]
          },
          "metadata": {
            "tags": []
          },
          "execution_count": 94
        }
      ]
    },
    {
      "cell_type": "code",
      "metadata": {
        "colab": {
          "base_uri": "https://localhost:8080/"
        },
        "id": "OTHpHmDS0b-5",
        "outputId": "e97a824c-a8a6-40bf-991d-411384e405eb"
      },
      "source": [
        "print('No Frauds', round(df['Class'].value_counts()[0]/len(df) * 100,2), '% of the dataset')\n",
        "print('Frauds', round(df['Class'].value_counts()[1]/len(df) * 100,2), '% of the dataset')"
      ],
      "execution_count": 95,
      "outputs": [
        {
          "output_type": "stream",
          "text": [
            "No Frauds 99.83 % of the dataset\n",
            "Frauds 0.17 % of the dataset\n"
          ],
          "name": "stdout"
        }
      ]
    },
    {
      "cell_type": "code",
      "metadata": {
        "colab": {
          "base_uri": "https://localhost:8080/"
        },
        "id": "Vhp7ubpi0j3C",
        "outputId": "de7af0f9-be2f-450f-cb31-083b60ea6fb6"
      },
      "source": [
        "print('No Frauds', round(df['Class'].value_counts()[0],2), 'are normal transactions')\n",
        "print('Frauds', round(df['Class'].value_counts()[1],2), 'are fraud')"
      ],
      "execution_count": 96,
      "outputs": [
        {
          "output_type": "stream",
          "text": [
            "No Frauds 284315 are normal transactions\n",
            "Frauds 492 are fraud\n"
          ],
          "name": "stdout"
        }
      ]
    },
    {
      "cell_type": "code",
      "metadata": {
        "colab": {
          "base_uri": "https://localhost:8080/",
          "height": 366
        },
        "id": "WvnMe1qL0ope",
        "outputId": "88ecda45-eb15-42e2-b0a5-081212e9d933"
      },
      "source": [
        "colors = [\"#0101DF\", \"#DF0101\"]\n",
        "\n",
        "sns.countplot('Class', data=df, palette=colors)\n",
        "plt.title('(0: No Fraud || 1: Fraud)', fontsize=14)"
      ],
      "execution_count": 97,
      "outputs": [
        {
          "output_type": "stream",
          "text": [
            "/usr/local/lib/python3.7/dist-packages/seaborn/_decorators.py:43: FutureWarning: Pass the following variable as a keyword arg: x. From version 0.12, the only valid positional argument will be `data`, and passing other arguments without an explicit keyword will result in an error or misinterpretation.\n",
            "  FutureWarning\n"
          ],
          "name": "stderr"
        },
        {
          "output_type": "execute_result",
          "data": {
            "text/plain": [
              "Text(0.5, 1.0, '(0: No Fraud || 1: Fraud)')"
            ]
          },
          "metadata": {
            "tags": []
          },
          "execution_count": 97
        },
        {
          "output_type": "display_data",
          "data": {
            "image/png": "[encoded data removed]",
            "text/plain": [
              "<Figure size 432x288 with 1 Axes>"
            ]
          },
          "metadata": {
            "tags": [],
            "needs_background": "light"
          }
        }
      ]
    },
    {
      "cell_type": "code",
      "metadata": {
        "id": "ufXk-4WEGfox"
      },
      "source": [
        "from sklearn.preprocessing import RobustScaler\n",
        "rob_scaler = RobustScaler()\n",
        "df['scaled_amount'] = rob_scaler.fit_transform(df['Amount'].values.reshape(-1,1))\n",
        "df.drop(['Amount'], axis=1, inplace=True)"
      ],
      "execution_count": 98,
      "outputs": []
    },
    {
      "cell_type": "code",
      "metadata": {
        "id": "RqR7_boZHGIp"
      },
      "source": [
        "scaled_amount = df['scaled_amount']\n",
        "\n",
        "df.drop(['scaled_amount'], axis=1, inplace=True)\n",
        "df.insert(0, 'scaled_amount', scaled_amount)"
      ],
      "execution_count": 99,
      "outputs": []
    },
    {
      "cell_type": "code",
      "metadata": {
        "id": "Hnxl3DAGHJAX"
      },
      "source": [
        "ss = StratifiedShuffleSplit(n_splits=1,\n",
        "                            test_size=0.2,\n",
        "                            train_size=0.8,\n",
        "                            random_state=42)"
      ],
      "execution_count": 100,
      "outputs": []
    },
    {
      "cell_type": "code",
      "metadata": {
        "id": "4eueUNJLHOXU"
      },
      "source": [
        "X = df.drop('Class', axis=1)\n",
        "y = df['Class']"
      ],
      "execution_count": 101,
      "outputs": []
    },
    {
      "cell_type": "code",
      "metadata": {
        "id": "C6qPA17BHQmh"
      },
      "source": [
        "for train_index, test_index in ss.split(X, y):\n",
        "    train_df = df.iloc[train_index]\n",
        "    test_df = df.iloc[test_index]"
      ],
      "execution_count": 103,
      "outputs": []
    },
    {
      "cell_type": "code",
      "metadata": {
        "colab": {
          "base_uri": "https://localhost:8080/"
        },
        "id": "pcRK58erHSKe",
        "outputId": "0390786a-218d-40cb-d24e-ef1bfe806c75"
      },
      "source": [
        "train_df = train_df.sample(frac=1)\n",
        "train_df.Class.value_counts()"
      ],
      "execution_count": 105,
      "outputs": [
        {
          "output_type": "execute_result",
          "data": {
            "text/plain": [
              "0    227451\n",
              "1       394\n",
              "Name: Class, dtype: int64"
            ]
          },
          "metadata": {
            "tags": []
          },
          "execution_count": 105
        }
      ]
    },
    {
      "cell_type": "code",
      "metadata": {
        "id": "UDqYDb6_HhLT"
      },
      "source": [
        "fraud_df = train_df.loc[train_df['Class'] == 1]\n",
        "non_fraud_df = train_df.loc[train_df['Class'] == 0][:394]"
      ],
      "execution_count": 106,
      "outputs": []
    },
    {
      "cell_type": "code",
      "metadata": {
        "colab": {
          "base_uri": "https://localhost:8080/"
        },
        "id": "aUOR1AWiHkie",
        "outputId": "84ed730a-4061-4b88-96c8-4289195aeb3e"
      },
      "source": [
        "print(fraud_df.shape,non_fraud_df.shape)"
      ],
      "execution_count": 107,
      "outputs": [
        {
          "output_type": "stream",
          "text": [
            "(394, 31) (394, 31)\n"
          ],
          "name": "stdout"
        }
      ]
    },
    {
      "cell_type": "code",
      "metadata": {
        "id": "XGxlRMPxHqNC"
      },
      "source": [
        "normal_df = pd.concat([fraud_df, non_fraud_df])\n",
        "df2 = normal_df.sample(frac=1, random_state=42)"
      ],
      "execution_count": 113,
      "outputs": []
    },
    {
      "cell_type": "code",
      "metadata": {
        "colab": {
          "base_uri": "https://localhost:8080/"
        },
        "id": "yU3RI7yiHwHn",
        "outputId": "7c88f40b-4b0d-4b7e-f19a-96309d3799c8"
      },
      "source": [
        "print(df2.shape)"
      ],
      "execution_count": 114,
      "outputs": [
        {
          "output_type": "stream",
          "text": [
            "(788, 31)\n"
          ],
          "name": "stdout"
        }
      ]
    },
    {
      "cell_type": "code",
      "metadata": {
        "id": "Q55Y3z8QH5s7"
      },
      "source": [
        "X_train = df2.drop('Class', axis=1)\n",
        "y_train = df2['Class']\n",
        "\n",
        "X_test = test_df.drop('Class', axis=1)\n",
        "y_test = test_df['Class']"
      ],
      "execution_count": 115,
      "outputs": []
    },
    {
      "cell_type": "code",
      "metadata": {
        "colab": {
          "base_uri": "https://localhost:8080/",
          "height": 279
        },
        "id": "pJbWChSi5nPt",
        "outputId": "2cc8d06d-cc90-412c-c5d0-0ca2f0395084"
      },
      "source": [
        "fig = sns.countplot(x = 'Class', data = normal_df)\n",
        "fig.set_xticklabels(labels=['Not Fraud', 'Fraud'], rotation=0);"
      ],
      "execution_count": 116,
      "outputs": [
        {
          "output_type": "display_data",
          "data": {
            "image/png": "[encoded data removed]",
            "text/plain": [
              "<Figure size 432x288 with 1 Axes>"
            ]
          },
          "metadata": {
            "tags": [],
            "needs_background": "light"
          }
        }
      ]
    },
    {
      "cell_type": "code",
      "metadata": {
        "colab": {
          "base_uri": "https://localhost:8080/",
          "height": 223
        },
        "id": "r0jDOEMi58QJ",
        "outputId": "55a50f62-0626-4a06-d5f8-177a9a814560"
      },
      "source": [
        "normal_df.head()"
      ],
      "execution_count": 117,
      "outputs": [
        {
          "output_type": "execute_result",
          "data": {
            "text/html": [
              "<div>\n",
              "<style scoped>\n",
              "    .dataframe tbody tr th:only-of-type {\n",
              "        vertical-align: middle;\n",
              "    }\n",
              "\n",
              "    .dataframe tbody tr th {\n",
              "        vertical-align: top;\n",
              "    }\n",
              "\n",
              "    .dataframe thead th {\n",
              "        text-align: right;\n",
              "    }\n",
              "</style>\n",
              "<table border=\"1\" class=\"dataframe\">\n",
              "  <thead>\n",
              "    <tr style=\"text-align: right;\">\n",
              "      <th></th>\n",
              "      <th>scaled_amount</th>\n",
              "      <th>Time</th>\n",
              "      <th>V1</th>\n",
              "      <th>V2</th>\n",
              "      <th>V3</th>\n",
              "      <th>V4</th>\n",
              "      <th>V5</th>\n",
              "      <th>V6</th>\n",
              "      <th>V7</th>\n",
              "      <th>V8</th>\n",
              "      <th>V9</th>\n",
              "      <th>V10</th>\n",
              "      <th>V11</th>\n",
              "      <th>V12</th>\n",
              "      <th>V13</th>\n",
              "      <th>V14</th>\n",
              "      <th>V15</th>\n",
              "      <th>V16</th>\n",
              "      <th>V17</th>\n",
              "      <th>V18</th>\n",
              "      <th>V19</th>\n",
              "      <th>V20</th>\n",
              "      <th>V21</th>\n",
              "      <th>V22</th>\n",
              "      <th>V23</th>\n",
              "      <th>V24</th>\n",
              "      <th>V25</th>\n",
              "      <th>V26</th>\n",
              "      <th>V27</th>\n",
              "      <th>V28</th>\n",
              "      <th>Class</th>\n",
              "    </tr>\n",
              "  </thead>\n",
              "  <tbody>\n",
              "    <tr>\n",
              "      <th>208651</th>\n",
              "      <td>0.243834</td>\n",
              "      <td>137211.0</td>\n",
              "      <td>0.630579</td>\n",
              "      <td>1.183631</td>\n",
              "      <td>-5.066283</td>\n",
              "      <td>2.179903</td>\n",
              "      <td>-0.703376</td>\n",
              "      <td>-0.103614</td>\n",
              "      <td>-3.490350</td>\n",
              "      <td>1.094734</td>\n",
              "      <td>-0.717418</td>\n",
              "      <td>-5.179935</td>\n",
              "      <td>2.867029</td>\n",
              "      <td>-5.259996</td>\n",
              "      <td>-1.277151</td>\n",
              "      <td>-6.989272</td>\n",
              "      <td>0.690010</td>\n",
              "      <td>-5.496188</td>\n",
              "      <td>-5.995337</td>\n",
              "      <td>-3.990515</td>\n",
              "      <td>-0.167200</td>\n",
              "      <td>0.357369</td>\n",
              "      <td>0.621622</td>\n",
              "      <td>0.043807</td>\n",
              "      <td>0.102711</td>\n",
              "      <td>-0.601505</td>\n",
              "      <td>0.127371</td>\n",
              "      <td>-0.163009</td>\n",
              "      <td>0.853792</td>\n",
              "      <td>0.356503</td>\n",
              "      <td>1</td>\n",
              "    </tr>\n",
              "    <tr>\n",
              "      <th>222419</th>\n",
              "      <td>-0.307413</td>\n",
              "      <td>142961.0</td>\n",
              "      <td>0.457845</td>\n",
              "      <td>1.373769</td>\n",
              "      <td>-0.488926</td>\n",
              "      <td>2.805351</td>\n",
              "      <td>1.777386</td>\n",
              "      <td>0.100492</td>\n",
              "      <td>1.295016</td>\n",
              "      <td>-0.135857</td>\n",
              "      <td>-1.695822</td>\n",
              "      <td>0.955004</td>\n",
              "      <td>-1.702228</td>\n",
              "      <td>-0.240056</td>\n",
              "      <td>0.456475</td>\n",
              "      <td>0.139567</td>\n",
              "      <td>-1.890974</td>\n",
              "      <td>0.372379</td>\n",
              "      <td>-0.798201</td>\n",
              "      <td>-0.697062</td>\n",
              "      <td>-1.497152</td>\n",
              "      <td>-0.264705</td>\n",
              "      <td>0.105593</td>\n",
              "      <td>0.371014</td>\n",
              "      <td>0.051105</td>\n",
              "      <td>0.401524</td>\n",
              "      <td>-0.724766</td>\n",
              "      <td>-0.202881</td>\n",
              "      <td>0.092124</td>\n",
              "      <td>0.094956</td>\n",
              "      <td>1</td>\n",
              "    </tr>\n",
              "    <tr>\n",
              "      <th>153823</th>\n",
              "      <td>-0.275554</td>\n",
              "      <td>100223.0</td>\n",
              "      <td>-19.641857</td>\n",
              "      <td>14.706335</td>\n",
              "      <td>-22.801238</td>\n",
              "      <td>12.114672</td>\n",
              "      <td>-14.898113</td>\n",
              "      <td>0.840778</td>\n",
              "      <td>-28.011293</td>\n",
              "      <td>-11.919639</td>\n",
              "      <td>-8.960922</td>\n",
              "      <td>-18.913243</td>\n",
              "      <td>4.971249</td>\n",
              "      <td>-12.686308</td>\n",
              "      <td>-1.071443</td>\n",
              "      <td>-7.383370</td>\n",
              "      <td>-2.992430</td>\n",
              "      <td>-8.582309</td>\n",
              "      <td>-13.806568</td>\n",
              "      <td>-6.000359</td>\n",
              "      <td>1.422632</td>\n",
              "      <td>3.834649</td>\n",
              "      <td>-8.228874</td>\n",
              "      <td>3.318178</td>\n",
              "      <td>2.585212</td>\n",
              "      <td>0.195009</td>\n",
              "      <td>-1.194803</td>\n",
              "      <td>0.038423</td>\n",
              "      <td>-4.126746</td>\n",
              "      <td>-0.645329</td>\n",
              "      <td>1</td>\n",
              "    </tr>\n",
              "    <tr>\n",
              "      <th>223366</th>\n",
              "      <td>-0.293440</td>\n",
              "      <td>143354.0</td>\n",
              "      <td>1.118331</td>\n",
              "      <td>2.074439</td>\n",
              "      <td>-3.837518</td>\n",
              "      <td>5.448060</td>\n",
              "      <td>0.071816</td>\n",
              "      <td>-1.020509</td>\n",
              "      <td>-1.808574</td>\n",
              "      <td>0.521744</td>\n",
              "      <td>-2.032638</td>\n",
              "      <td>-2.732792</td>\n",
              "      <td>3.274075</td>\n",
              "      <td>-3.541687</td>\n",
              "      <td>-0.946820</td>\n",
              "      <td>-7.555729</td>\n",
              "      <td>-1.767005</td>\n",
              "      <td>-0.642333</td>\n",
              "      <td>-2.114429</td>\n",
              "      <td>0.183327</td>\n",
              "      <td>-1.177793</td>\n",
              "      <td>0.163513</td>\n",
              "      <td>0.289861</td>\n",
              "      <td>-0.172718</td>\n",
              "      <td>-0.021910</td>\n",
              "      <td>-0.376560</td>\n",
              "      <td>0.192817</td>\n",
              "      <td>0.114107</td>\n",
              "      <td>0.500996</td>\n",
              "      <td>0.259533</td>\n",
              "      <td>1</td>\n",
              "    </tr>\n",
              "    <tr>\n",
              "      <th>143335</th>\n",
              "      <td>3.226717</td>\n",
              "      <td>85285.0</td>\n",
              "      <td>-6.713407</td>\n",
              "      <td>3.921104</td>\n",
              "      <td>-9.746678</td>\n",
              "      <td>5.148263</td>\n",
              "      <td>-5.151563</td>\n",
              "      <td>-2.099389</td>\n",
              "      <td>-5.937767</td>\n",
              "      <td>3.578780</td>\n",
              "      <td>-4.684952</td>\n",
              "      <td>-8.537758</td>\n",
              "      <td>6.348979</td>\n",
              "      <td>-8.681609</td>\n",
              "      <td>0.251179</td>\n",
              "      <td>-11.608002</td>\n",
              "      <td>-0.351569</td>\n",
              "      <td>-5.363566</td>\n",
              "      <td>-11.939092</td>\n",
              "      <td>-3.583603</td>\n",
              "      <td>0.897402</td>\n",
              "      <td>0.135711</td>\n",
              "      <td>0.954272</td>\n",
              "      <td>-0.451086</td>\n",
              "      <td>0.127214</td>\n",
              "      <td>-0.339450</td>\n",
              "      <td>0.394096</td>\n",
              "      <td>1.075295</td>\n",
              "      <td>1.649906</td>\n",
              "      <td>-0.394905</td>\n",
              "      <td>1</td>\n",
              "    </tr>\n",
              "  </tbody>\n",
              "</table>\n",
              "</div>"
            ],
            "text/plain": [
              "        scaled_amount      Time         V1  ...       V27       V28  Class\n",
              "208651       0.243834  137211.0   0.630579  ...  0.853792  0.356503      1\n",
              "222419      -0.307413  142961.0   0.457845  ...  0.092124  0.094956      1\n",
              "153823      -0.275554  100223.0 -19.641857  ... -4.126746 -0.645329      1\n",
              "223366      -0.293440  143354.0   1.118331  ...  0.500996  0.259533      1\n",
              "143335       3.226717   85285.0  -6.713407  ...  1.649906 -0.394905      1\n",
              "\n",
              "[5 rows x 31 columns]"
            ]
          },
          "metadata": {
            "tags": []
          },
          "execution_count": 117
        }
      ]
    },
    {
      "cell_type": "code",
      "metadata": {
        "colab": {
          "base_uri": "https://localhost:8080/",
          "height": 674
        },
        "id": "8DWCX9uK6ES4",
        "outputId": "95863055-effd-4b49-eed4-60d1cc445857"
      },
      "source": [
        "#imbalance data correlation\n",
        "fig, ax = plt.subplots(figsize=(20,10)) \n",
        "corr = df.corr()\n",
        "sns.heatmap(corr, cmap='coolwarm', annot_kws={'size':30}, ax=ax)\n",
        "ax.set_title(\"Imbalanced Correlation Matrix\", fontsize=14)\n",
        "plt.show()"
      ],
      "execution_count": 118,
      "outputs": [
        {
          "output_type": "display_data",
          "data": {
            "image/png": "[encoded data removed]",
            "text/plain": [
              "<Figure size 1440x720 with 2 Axes>"
            ]
          },
          "metadata": {
            "tags": [],
            "needs_background": "light"
          }
        }
      ]
    },
    {
      "cell_type": "code",
      "metadata": {
        "colab": {
          "base_uri": "https://localhost:8080/",
          "height": 674
        },
        "id": "w7at85i96dBk",
        "outputId": "002b2f39-b1ad-4320-80f0-d01b931f58f8"
      },
      "source": [
        "#balance data correlation\n",
        "fig, ax = plt.subplots(figsize=(20,10)) \n",
        "corr = normal_df.corr()\n",
        "sns.heatmap(corr, cmap='coolwarm', annot_kws={'size':30}, ax=ax)\n",
        "ax.set_title(\"Balanced Correlation Matrix\", fontsize=14)\n",
        "plt.show()"
      ],
      "execution_count": 119,
      "outputs": [
        {
          "output_type": "display_data",
          "data": {
            "image/png": "[encoded data removed]",
            "text/plain": [
              "<Figure size 1440x720 with 2 Axes>"
            ]
          },
          "metadata": {
            "tags": [],
            "needs_background": "light"
          }
        }
      ]
    },
    {
      "cell_type": "code",
      "metadata": {
        "colab": {
          "base_uri": "https://localhost:8080/"
        },
        "id": "40eb9Xi_MoDN",
        "outputId": "01a932c3-47d7-4825-83e5-0f6ea168aeba"
      },
      "source": [
        "from sklearn.svm import SVC\n",
        "svm_clf = SVC()\n",
        "svm_clf.fit(X_train,y_train)"
      ],
      "execution_count": 160,
      "outputs": [
        {
          "output_type": "execute_result",
          "data": {
            "text/plain": [
              "SVC(C=1.0, break_ties=False, cache_size=200, class_weight=None, coef0=0.0,\n",
              "    decision_function_shape='ovr', degree=3, gamma='scale', kernel='rbf',\n",
              "    max_iter=-1, probability=False, random_state=None, shrinking=True,\n",
              "    tol=0.001, verbose=False)"
            ]
          },
          "metadata": {
            "tags": []
          },
          "execution_count": 160
        }
      ]
    },
    {
      "cell_type": "code",
      "metadata": {
        "colab": {
          "base_uri": "https://localhost:8080/"
        },
        "id": "B6nNZbhLMwAF",
        "outputId": "8f596cdd-bc0b-4f68-efce-e2b52fa34635"
      },
      "source": [
        "from xgboost import XGBClassifier\n",
        "xgb = XGBClassifier()\n",
        "xgb.fit(X_train,y_train)"
      ],
      "execution_count": 161,
      "outputs": [
        {
          "output_type": "execute_result",
          "data": {
            "text/plain": [
              "XGBClassifier(base_score=0.5, booster='gbtree', colsample_bylevel=1,\n",
              "              colsample_bynode=1, colsample_bytree=1, gamma=0,\n",
              "              learning_rate=0.1, max_delta_step=0, max_depth=3,\n",
              "              min_child_weight=1, missing=None, n_estimators=100, n_jobs=1,\n",
              "              nthread=None, objective='binary:logistic', random_state=0,\n",
              "              reg_alpha=0, reg_lambda=1, scale_pos_weight=1, seed=None,\n",
              "              silent=None, subsample=1, verbosity=1)"
            ]
          },
          "metadata": {
            "tags": []
          },
          "execution_count": 161
        }
      ]
    },
    {
      "cell_type": "code",
      "metadata": {
        "colab": {
          "base_uri": "https://localhost:8080/"
        },
        "id": "vxwd-v1UMtKA",
        "outputId": "02a60575-50a6-4d4d-d4fa-5bbf7f671324"
      },
      "source": [
        "from sklearn.linear_model import LogisticRegression\n",
        "lr = LogisticRegression()\n",
        "lr.fit(X_train,y_train)"
      ],
      "execution_count": 162,
      "outputs": [
        {
          "output_type": "execute_result",
          "data": {
            "text/plain": [
              "LogisticRegression(C=1.0, class_weight=None, dual=False, fit_intercept=True,\n",
              "                   intercept_scaling=1, l1_ratio=None, max_iter=100,\n",
              "                   multi_class='auto', n_jobs=None, penalty='l2',\n",
              "                   random_state=None, solver='lbfgs', tol=0.0001, verbose=0,\n",
              "                   warm_start=False)"
            ]
          },
          "metadata": {
            "tags": []
          },
          "execution_count": 162
        }
      ]
    },
    {
      "cell_type": "code",
      "metadata": {
        "colab": {
          "base_uri": "https://localhost:8080/"
        },
        "id": "iWMMi2M_I27Q",
        "outputId": "0ee15bc6-3006-429d-d6b8-b23a2708e667"
      },
      "source": [
        "from sklearn.ensemble import RandomForestClassifier\n",
        "rf = RandomForestClassifier()\n",
        "rf.fit(X_train,y_train)"
      ],
      "execution_count": 163,
      "outputs": [
        {
          "output_type": "execute_result",
          "data": {
            "text/plain": [
              "RandomForestClassifier(bootstrap=True, ccp_alpha=0.0, class_weight=None,\n",
              "                       criterion='gini', max_depth=None, max_features='auto',\n",
              "                       max_leaf_nodes=None, max_samples=None,\n",
              "                       min_impurity_decrease=0.0, min_impurity_split=None,\n",
              "                       min_samples_leaf=1, min_samples_split=2,\n",
              "                       min_weight_fraction_leaf=0.0, n_estimators=100,\n",
              "                       n_jobs=None, oob_score=False, random_state=None,\n",
              "                       verbose=0, warm_start=False)"
            ]
          },
          "metadata": {
            "tags": []
          },
          "execution_count": 163
        }
      ]
    },
    {
      "cell_type": "code",
      "metadata": {
        "colab": {
          "base_uri": "https://localhost:8080/"
        },
        "id": "ej1p4a8bI4eJ",
        "outputId": "7c32a234-9005-4f37-c724-06246af3ca5b"
      },
      "source": [
        "from sklearn.tree import DecisionTreeClassifier\n",
        "dc = DecisionTreeClassifier()\n",
        "dc.fit(X_train,y_train)"
      ],
      "execution_count": 164,
      "outputs": [
        {
          "output_type": "execute_result",
          "data": {
            "text/plain": [
              "DecisionTreeClassifier(ccp_alpha=0.0, class_weight=None, criterion='gini',\n",
              "                       max_depth=None, max_features=None, max_leaf_nodes=None,\n",
              "                       min_impurity_decrease=0.0, min_impurity_split=None,\n",
              "                       min_samples_leaf=1, min_samples_split=2,\n",
              "                       min_weight_fraction_leaf=0.0, presort='deprecated',\n",
              "                       random_state=None, splitter='best')"
            ]
          },
          "metadata": {
            "tags": []
          },
          "execution_count": 164
        }
      ]
    },
    {
      "cell_type": "code",
      "metadata": {
        "colab": {
          "base_uri": "https://localhost:8080/"
        },
        "id": "pFxtgv5fI9A0",
        "outputId": "4a6f2154-e312-4878-bb63-c65f94577b7d"
      },
      "source": [
        "from sklearn.neighbors import KNeighborsClassifier\n",
        "knn = KNeighborsClassifier()\n",
        "knn.fit(X_train,y_train)"
      ],
      "execution_count": 166,
      "outputs": [
        {
          "output_type": "execute_result",
          "data": {
            "text/plain": [
              "KNeighborsClassifier(algorithm='auto', leaf_size=30, metric='minkowski',\n",
              "                     metric_params=None, n_jobs=None, n_neighbors=5, p=2,\n",
              "                     weights='uniform')"
            ]
          },
          "metadata": {
            "tags": []
          },
          "execution_count": 166
        }
      ]
    },
    {
      "cell_type": "code",
      "metadata": {
        "colab": {
          "base_uri": "https://localhost:8080/"
        },
        "id": "lewsuGpxI_bD",
        "outputId": "3641ce00-c3d0-4a97-fad6-cfa46e86aee4"
      },
      "source": [
        "from sklearn.naive_bayes import GaussianNB\n",
        "gnb = GaussianNB()\n",
        "gnb.fit(X_train,y_train)"
      ],
      "execution_count": 165,
      "outputs": [
        {
          "output_type": "execute_result",
          "data": {
            "text/plain": [
              "GaussianNB(priors=None, var_smoothing=1e-09)"
            ]
          },
          "metadata": {
            "tags": []
          },
          "execution_count": 165
        }
      ]
    },
    {
      "cell_type": "code",
      "metadata": {
        "colab": {
          "base_uri": "https://localhost:8080/"
        },
        "id": "UYbTXbZ3JB3k",
        "outputId": "bdfa5e10-10e7-440f-ba72-8993560c6be4"
      },
      "source": [
        "from sklearn.ensemble import AdaBoostClassifier\n",
        "abc = AdaBoostClassifier()\n",
        "abc.fit(X_train,y_train)"
      ],
      "execution_count": 167,
      "outputs": [
        {
          "output_type": "execute_result",
          "data": {
            "text/plain": [
              "AdaBoostClassifier(algorithm='SAMME.R', base_estimator=None, learning_rate=1.0,\n",
              "                   n_estimators=50, random_state=None)"
            ]
          },
          "metadata": {
            "tags": []
          },
          "execution_count": 167
        }
      ]
    },
    {
      "cell_type": "code",
      "metadata": {
        "id": "Zx42L5IbJIvy"
      },
      "source": [
        "from sklearn.metrics import (f1_score, roc_auc_score,confusion_matrix, accuracy_score,\n",
        "                             precision_score, recall_score)\n",
        "from IPython.display import HTML, display\n",
        "import tabulate"
      ],
      "execution_count": 171,
      "outputs": []
    },
    {
      "cell_type": "code",
      "metadata": {
        "id": "iQzOztXHJXTl"
      },
      "source": [
        "def predict_and_evaluate(model, X_test, y_test):\n",
        "  \n",
        "    predictions = model.predict(X_test)\n",
        "    \n",
        "    accuracy = accuracy_score(y_test, predictions)\n",
        "    precision = precision_score(y_test, predictions)\n",
        "    recall = recall_score(y_test, predictions)\n",
        "    f1 = f1_score(y_test, predictions)\n",
        "    tn, fp, fn, tp = confusion_matrix(y_test, predictions).ravel()\n",
        "    \n",
        "    metrics = [round(accuracy,2), round(precision,2), round(recall,2), round(f1,2),fp,fn]\n",
        "    table = [[model.__class__.__name__] + metrics]\n",
        "    display(HTML(tabulate.tabulate(table,headers=('Algorithm','Accuracy', \n",
        "                                                   'Precision', \n",
        "                                                  'Recall', 'F1 Score','False Positives','False Negatives'), \n",
        "                                   tablefmt='html')))\n",
        "    \n",
        "    return [model.__class__.__name__] + metrics"
      ],
      "execution_count": 179,
      "outputs": []
    },
    {
      "cell_type": "code",
      "metadata": {
        "colab": {
          "base_uri": "https://localhost:8080/",
          "height": 356
        },
        "id": "bnnXacdHM42-",
        "outputId": "9c5ca6dc-e958-4321-f504-ce8e1703bd05"
      },
      "source": [
        "svm_res = predict_and_evaluate(svm_clf, X_test, y_test)\n",
        "xgb_res = predict_and_evaluate(xgb, X_test, y_test)\n",
        "lr_res = predict_and_evaluate(lr, X_test, y_test)\n",
        "rf_res = predict_and_evaluate(rf, X_test, y_test)\n",
        "dc_res = predict_and_evaluate(dc, X_test, y_test)\n",
        "knn_res = predict_and_evaluate(knn, X_test, y_test)\n",
        "gnb_res = predict_and_evaluate(gnb, X_test, y_test)\n",
        "abc_res = predict_and_evaluate(abc, X_test, y_test)"
      ],
      "execution_count": 180,
      "outputs": [
        {
          "output_type": "display_data",
          "data": {
            "text/html": [
              "<table>\n",
              "<thead>\n",
              "<tr><th>Algorithm  </th><th style=\"text-align: right;\">  Accuracy</th><th style=\"text-align: right;\">  Precision</th><th style=\"text-align: right;\">  Recall</th><th style=\"text-align: right;\">  F1 Score</th><th style=\"text-align: right;\">  False Positives</th><th style=\"text-align: right;\">  False Negatives</th></tr>\n",
              "</thead>\n",
              "<tbody>\n",
              "<tr><td>SVC        </td><td style=\"text-align: right;\">      0.78</td><td style=\"text-align: right;\">          0</td><td style=\"text-align: right;\">     0.4</td><td style=\"text-align: right;\">      0.01</td><td style=\"text-align: right;\">            12202</td><td style=\"text-align: right;\">               59</td></tr>\n",
              "</tbody>\n",
              "</table>"
            ],
            "text/plain": [
              "<IPython.core.display.HTML object>"
            ]
          },
          "metadata": {
            "tags": []
          }
        },
        {
          "output_type": "display_data",
          "data": {
            "text/html": [
              "<table>\n",
              "<thead>\n",
              "<tr><th>Algorithm    </th><th style=\"text-align: right;\">  Accuracy</th><th style=\"text-align: right;\">  Precision</th><th style=\"text-align: right;\">  Recall</th><th style=\"text-align: right;\">  F1 Score</th><th style=\"text-align: right;\">  False Positives</th><th style=\"text-align: right;\">  False Negatives</th></tr>\n",
              "</thead>\n",
              "<tbody>\n",
              "<tr><td>XGBClassifier</td><td style=\"text-align: right;\">      0.96</td><td style=\"text-align: right;\">       0.04</td><td style=\"text-align: right;\">    0.92</td><td style=\"text-align: right;\">      0.07</td><td style=\"text-align: right;\">             2271</td><td style=\"text-align: right;\">                8</td></tr>\n",
              "</tbody>\n",
              "</table>"
            ],
            "text/plain": [
              "<IPython.core.display.HTML object>"
            ]
          },
          "metadata": {
            "tags": []
          }
        },
        {
          "output_type": "display_data",
          "data": {
            "text/html": [
              "<table>\n",
              "<thead>\n",
              "<tr><th>Algorithm         </th><th style=\"text-align: right;\">  Accuracy</th><th style=\"text-align: right;\">  Precision</th><th style=\"text-align: right;\">  Recall</th><th style=\"text-align: right;\">  F1 Score</th><th style=\"text-align: right;\">  False Positives</th><th style=\"text-align: right;\">  False Negatives</th></tr>\n",
              "</thead>\n",
              "<tbody>\n",
              "<tr><td>LogisticRegression</td><td style=\"text-align: right;\">      0.94</td><td style=\"text-align: right;\">       0.03</td><td style=\"text-align: right;\">    0.92</td><td style=\"text-align: right;\">      0.05</td><td style=\"text-align: right;\">             3229</td><td style=\"text-align: right;\">                8</td></tr>\n",
              "</tbody>\n",
              "</table>"
            ],
            "text/plain": [
              "<IPython.core.display.HTML object>"
            ]
          },
          "metadata": {
            "tags": []
          }
        },
        {
          "output_type": "display_data",
          "data": {
            "text/html": [
              "<table>\n",
              "<thead>\n",
              "<tr><th>Algorithm             </th><th style=\"text-align: right;\">  Accuracy</th><th style=\"text-align: right;\">  Precision</th><th style=\"text-align: right;\">  Recall</th><th style=\"text-align: right;\">  F1 Score</th><th style=\"text-align: right;\">  False Positives</th><th style=\"text-align: right;\">  False Negatives</th></tr>\n",
              "</thead>\n",
              "<tbody>\n",
              "<tr><td>RandomForestClassifier</td><td style=\"text-align: right;\">      0.97</td><td style=\"text-align: right;\">       0.05</td><td style=\"text-align: right;\">    0.92</td><td style=\"text-align: right;\">       0.1</td><td style=\"text-align: right;\">             1621</td><td style=\"text-align: right;\">                8</td></tr>\n",
              "</tbody>\n",
              "</table>"
            ],
            "text/plain": [
              "<IPython.core.display.HTML object>"
            ]
          },
          "metadata": {
            "tags": []
          }
        },
        {
          "output_type": "display_data",
          "data": {
            "text/html": [
              "<table>\n",
              "<thead>\n",
              "<tr><th>Algorithm             </th><th style=\"text-align: right;\">  Accuracy</th><th style=\"text-align: right;\">  Precision</th><th style=\"text-align: right;\">  Recall</th><th style=\"text-align: right;\">  F1 Score</th><th style=\"text-align: right;\">  False Positives</th><th style=\"text-align: right;\">  False Negatives</th></tr>\n",
              "</thead>\n",
              "<tbody>\n",
              "<tr><td>DecisionTreeClassifier</td><td style=\"text-align: right;\">      0.91</td><td style=\"text-align: right;\">       0.02</td><td style=\"text-align: right;\">    0.89</td><td style=\"text-align: right;\">      0.03</td><td style=\"text-align: right;\">             5073</td><td style=\"text-align: right;\">               11</td></tr>\n",
              "</tbody>\n",
              "</table>"
            ],
            "text/plain": [
              "<IPython.core.display.HTML object>"
            ]
          },
          "metadata": {
            "tags": []
          }
        },
        {
          "output_type": "display_data",
          "data": {
            "text/html": [
              "<table>\n",
              "<thead>\n",
              "<tr><th>Algorithm           </th><th style=\"text-align: right;\">  Accuracy</th><th style=\"text-align: right;\">  Precision</th><th style=\"text-align: right;\">  Recall</th><th style=\"text-align: right;\">  F1 Score</th><th style=\"text-align: right;\">  False Positives</th><th style=\"text-align: right;\">  False Negatives</th></tr>\n",
              "</thead>\n",
              "<tbody>\n",
              "<tr><td>KNeighborsClassifier</td><td style=\"text-align: right;\">      0.63</td><td style=\"text-align: right;\">          0</td><td style=\"text-align: right;\">    0.78</td><td style=\"text-align: right;\">      0.01</td><td style=\"text-align: right;\">            21001</td><td style=\"text-align: right;\">               22</td></tr>\n",
              "</tbody>\n",
              "</table>"
            ],
            "text/plain": [
              "<IPython.core.display.HTML object>"
            ]
          },
          "metadata": {
            "tags": []
          }
        },
        {
          "output_type": "display_data",
          "data": {
            "text/html": [
              "<table>\n",
              "<thead>\n",
              "<tr><th>Algorithm  </th><th style=\"text-align: right;\">  Accuracy</th><th style=\"text-align: right;\">  Precision</th><th style=\"text-align: right;\">  Recall</th><th style=\"text-align: right;\">  F1 Score</th><th style=\"text-align: right;\">  False Positives</th><th style=\"text-align: right;\">  False Negatives</th></tr>\n",
              "</thead>\n",
              "<tbody>\n",
              "<tr><td>GaussianNB </td><td style=\"text-align: right;\">      0.98</td><td style=\"text-align: right;\">       0.07</td><td style=\"text-align: right;\">    0.74</td><td style=\"text-align: right;\">      0.14</td><td style=\"text-align: right;\">              908</td><td style=\"text-align: right;\">               25</td></tr>\n",
              "</tbody>\n",
              "</table>"
            ],
            "text/plain": [
              "<IPython.core.display.HTML object>"
            ]
          },
          "metadata": {
            "tags": []
          }
        },
        {
          "output_type": "display_data",
          "data": {
            "text/html": [
              "<table>\n",
              "<thead>\n",
              "<tr><th>Algorithm         </th><th style=\"text-align: right;\">  Accuracy</th><th style=\"text-align: right;\">  Precision</th><th style=\"text-align: right;\">  Recall</th><th style=\"text-align: right;\">  F1 Score</th><th style=\"text-align: right;\">  False Positives</th><th style=\"text-align: right;\">  False Negatives</th></tr>\n",
              "</thead>\n",
              "<tbody>\n",
              "<tr><td>AdaBoostClassifier</td><td style=\"text-align: right;\">      0.94</td><td style=\"text-align: right;\">       0.03</td><td style=\"text-align: right;\">    0.92</td><td style=\"text-align: right;\">      0.05</td><td style=\"text-align: right;\">             3219</td><td style=\"text-align: right;\">                8</td></tr>\n",
              "</tbody>\n",
              "</table>"
            ],
            "text/plain": [
              "<IPython.core.display.HTML object>"
            ]
          },
          "metadata": {
            "tags": []
          }
        }
      ]
    },
    {
      "cell_type": "code",
      "metadata": {
        "colab": {
          "base_uri": "https://localhost:8080/",
          "height": 242
        },
        "id": "LBm9ThoyOjdE",
        "outputId": "76b1e719-9877-4da2-862e-835ef5a42dff"
      },
      "source": [
        "display(HTML('<h3>Summary:</h3>'))\n",
        "table = [svm_res,xgb_res,lr_res,rf_res,dc_res,knn_res,gnb_res,abc_res]\n",
        "display(HTML(tabulate.tabulate(table,headers=('Algorithm','Accuracy', \n",
        "                                                   'Precision', \n",
        "                                                  'Recall', 'F1 Score','False Positives','False Negatives'),\n",
        "                               tablefmt='html')))"
      ],
      "execution_count": 184,
      "outputs": [
        {
          "output_type": "display_data",
          "data": {
            "text/html": [
              "<h3>Summary:</h3>"
            ],
            "text/plain": [
              "<IPython.core.display.HTML object>"
            ]
          },
          "metadata": {
            "tags": []
          }
        },
        {
          "output_type": "display_data",
          "data": {
            "text/html": [
              "<table>\n",
              "<thead>\n",
              "<tr><th>Algorithm             </th><th style=\"text-align: right;\">  Accuracy</th><th style=\"text-align: right;\">  Precision</th><th style=\"text-align: right;\">  Recall</th><th style=\"text-align: right;\">  F1 Score</th><th style=\"text-align: right;\">  False Positives</th><th style=\"text-align: right;\">  False Negatives</th></tr>\n",
              "</thead>\n",
              "<tbody>\n",
              "<tr><td>SVC                   </td><td style=\"text-align: right;\">      0.78</td><td style=\"text-align: right;\">       0   </td><td style=\"text-align: right;\">    0.4 </td><td style=\"text-align: right;\">      0.01</td><td style=\"text-align: right;\">            12202</td><td style=\"text-align: right;\">               59</td></tr>\n",
              "<tr><td>XGBClassifier         </td><td style=\"text-align: right;\">      0.96</td><td style=\"text-align: right;\">       0.04</td><td style=\"text-align: right;\">    0.92</td><td style=\"text-align: right;\">      0.07</td><td style=\"text-align: right;\">             2271</td><td style=\"text-align: right;\">                8</td></tr>\n",
              "<tr><td>LogisticRegression    </td><td style=\"text-align: right;\">      0.94</td><td style=\"text-align: right;\">       0.03</td><td style=\"text-align: right;\">    0.92</td><td style=\"text-align: right;\">      0.05</td><td style=\"text-align: right;\">             3229</td><td style=\"text-align: right;\">                8</td></tr>\n",
              "<tr><td>RandomForestClassifier</td><td style=\"text-align: right;\">      0.97</td><td style=\"text-align: right;\">       0.05</td><td style=\"text-align: right;\">    0.92</td><td style=\"text-align: right;\">      0.1 </td><td style=\"text-align: right;\">             1621</td><td style=\"text-align: right;\">                8</td></tr>\n",
              "<tr><td>DecisionTreeClassifier</td><td style=\"text-align: right;\">      0.91</td><td style=\"text-align: right;\">       0.02</td><td style=\"text-align: right;\">    0.89</td><td style=\"text-align: right;\">      0.03</td><td style=\"text-align: right;\">             5073</td><td style=\"text-align: right;\">               11</td></tr>\n",
              "<tr><td>KNeighborsClassifier  </td><td style=\"text-align: right;\">      0.63</td><td style=\"text-align: right;\">       0   </td><td style=\"text-align: right;\">    0.78</td><td style=\"text-align: right;\">      0.01</td><td style=\"text-align: right;\">            21001</td><td style=\"text-align: right;\">               22</td></tr>\n",
              "<tr><td>GaussianNB            </td><td style=\"text-align: right;\">      0.98</td><td style=\"text-align: right;\">       0.07</td><td style=\"text-align: right;\">    0.74</td><td style=\"text-align: right;\">      0.14</td><td style=\"text-align: right;\">              908</td><td style=\"text-align: right;\">               25</td></tr>\n",
              "<tr><td>AdaBoostClassifier    </td><td style=\"text-align: right;\">      0.94</td><td style=\"text-align: right;\">       0.03</td><td style=\"text-align: right;\">    0.92</td><td style=\"text-align: right;\">      0.05</td><td style=\"text-align: right;\">             3219</td><td style=\"text-align: right;\">                8</td></tr>\n",
              "</tbody>\n",
              "</table>"
            ],
            "text/plain": [
              "<IPython.core.display.HTML object>"
            ]
          },
          "metadata": {
            "tags": []
          }
        }
      ]
    }
  ]
}